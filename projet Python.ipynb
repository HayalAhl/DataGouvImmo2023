{
 "cells": [
  {
   "cell_type": "markdown",
   "id": "a3d7fac9",
   "metadata": {},
   "source": [
    "# Projet DataGouv Valeurs Foncières "
   ]
  },
  {
   "cell_type": "code",
   "execution_count": 1,
   "id": "d25045d4",
   "metadata": {},
   "outputs": [],
   "source": [
    "import numpy as np\n",
    "import pandas as pd"
   ]
  },
  {
   "cell_type": "markdown",
   "id": "927a92aa",
   "metadata": {},
   "source": [
    "## Chargement des fichiers"
   ]
  },
  {
   "cell_type": "code",
   "execution_count": 2,
   "id": "2300a105",
   "metadata": {},
   "outputs": [
    {
     "name": "stderr",
     "output_type": "stream",
     "text": [
      "C:\\Users\\bync\\AppData\\Local\\Temp\\ipykernel_4516\\1142338730.py:3: DtypeWarning: Columns (18,23,24,26,28,29,31,33,41) have mixed types. Specify dtype option on import or set low_memory=False.\n",
      "  df = pd.read_csv(filepath, low_memory=True, sep = \"|\")\n"
     ]
    }
   ],
   "source": [
    "filepath = r\"C:\\Users\\bync\\PROJET PYTHON\\valeursfoncieres-2022.txt\"\n",
    "\n",
    "df = pd.read_csv(filepath, low_memory=True, sep = \"|\")"
   ]
  },
  {
   "cell_type": "code",
   "execution_count": 3,
   "id": "ec4cfecb",
   "metadata": {},
   "outputs": [],
   "source": [
    "data = pd.read_csv('emplacement-des-gares-idf-data-generalisee.csv', sep=';')"
   ]
  },
  {
   "cell_type": "code",
   "execution_count": 37,
   "id": "b8b5d26c",
   "metadata": {},
   "outputs": [
    {
     "data": {
      "text/plain": [
       "array([nan])"
      ]
     },
     "execution_count": 37,
     "metadata": {},
     "output_type": "execute_result"
    }
   ],
   "source": [
    "df['Identifiant de document'].unique()"
   ]
  },
  {
   "cell_type": "markdown",
   "id": "b1a4a479",
   "metadata": {},
   "source": [
    "## Quelques manipulations"
   ]
  },
  {
   "cell_type": "code",
   "execution_count": 4,
   "id": "dab19ed4",
   "metadata": {},
   "outputs": [
    {
     "data": {
      "text/html": [
       "<div>\n",
       "<style scoped>\n",
       "    .dataframe tbody tr th:only-of-type {\n",
       "        vertical-align: middle;\n",
       "    }\n",
       "\n",
       "    .dataframe tbody tr th {\n",
       "        vertical-align: top;\n",
       "    }\n",
       "\n",
       "    .dataframe thead th {\n",
       "        text-align: right;\n",
       "    }\n",
       "</style>\n",
       "<table border=\"1\" class=\"dataframe\">\n",
       "  <thead>\n",
       "    <tr style=\"text-align: right;\">\n",
       "      <th></th>\n",
       "      <th>Identifiant de document</th>\n",
       "      <th>Reference document</th>\n",
       "      <th>1 Articles CGI</th>\n",
       "      <th>2 Articles CGI</th>\n",
       "      <th>3 Articles CGI</th>\n",
       "      <th>4 Articles CGI</th>\n",
       "      <th>5 Articles CGI</th>\n",
       "      <th>No disposition</th>\n",
       "      <th>Date mutation</th>\n",
       "      <th>Nature mutation</th>\n",
       "      <th>...</th>\n",
       "      <th>Surface Carrez du 5eme lot</th>\n",
       "      <th>Nombre de lots</th>\n",
       "      <th>Code type local</th>\n",
       "      <th>Type local</th>\n",
       "      <th>Identifiant local</th>\n",
       "      <th>Surface reelle bati</th>\n",
       "      <th>Nombre pieces principales</th>\n",
       "      <th>Nature culture</th>\n",
       "      <th>Nature culture speciale</th>\n",
       "      <th>Surface terrain</th>\n",
       "    </tr>\n",
       "  </thead>\n",
       "  <tbody>\n",
       "    <tr>\n",
       "      <th>0</th>\n",
       "      <td>NaN</td>\n",
       "      <td>NaN</td>\n",
       "      <td>NaN</td>\n",
       "      <td>NaN</td>\n",
       "      <td>NaN</td>\n",
       "      <td>NaN</td>\n",
       "      <td>NaN</td>\n",
       "      <td>1</td>\n",
       "      <td>03/01/2022</td>\n",
       "      <td>Vente</td>\n",
       "      <td>...</td>\n",
       "      <td>NaN</td>\n",
       "      <td>1</td>\n",
       "      <td>2.0</td>\n",
       "      <td>Appartement</td>\n",
       "      <td>NaN</td>\n",
       "      <td>24.0</td>\n",
       "      <td>1.0</td>\n",
       "      <td>NaN</td>\n",
       "      <td>NaN</td>\n",
       "      <td>NaN</td>\n",
       "    </tr>\n",
       "    <tr>\n",
       "      <th>1</th>\n",
       "      <td>NaN</td>\n",
       "      <td>NaN</td>\n",
       "      <td>NaN</td>\n",
       "      <td>NaN</td>\n",
       "      <td>NaN</td>\n",
       "      <td>NaN</td>\n",
       "      <td>NaN</td>\n",
       "      <td>1</td>\n",
       "      <td>03/01/2022</td>\n",
       "      <td>Vente</td>\n",
       "      <td>...</td>\n",
       "      <td>NaN</td>\n",
       "      <td>0</td>\n",
       "      <td>NaN</td>\n",
       "      <td>NaN</td>\n",
       "      <td>NaN</td>\n",
       "      <td>NaN</td>\n",
       "      <td>NaN</td>\n",
       "      <td>S</td>\n",
       "      <td>NaN</td>\n",
       "      <td>84.0</td>\n",
       "    </tr>\n",
       "    <tr>\n",
       "      <th>2</th>\n",
       "      <td>NaN</td>\n",
       "      <td>NaN</td>\n",
       "      <td>NaN</td>\n",
       "      <td>NaN</td>\n",
       "      <td>NaN</td>\n",
       "      <td>NaN</td>\n",
       "      <td>NaN</td>\n",
       "      <td>1</td>\n",
       "      <td>03/01/2022</td>\n",
       "      <td>Vente</td>\n",
       "      <td>...</td>\n",
       "      <td>NaN</td>\n",
       "      <td>0</td>\n",
       "      <td>NaN</td>\n",
       "      <td>NaN</td>\n",
       "      <td>NaN</td>\n",
       "      <td>NaN</td>\n",
       "      <td>NaN</td>\n",
       "      <td>S</td>\n",
       "      <td>NaN</td>\n",
       "      <td>88.0</td>\n",
       "    </tr>\n",
       "    <tr>\n",
       "      <th>3</th>\n",
       "      <td>NaN</td>\n",
       "      <td>NaN</td>\n",
       "      <td>NaN</td>\n",
       "      <td>NaN</td>\n",
       "      <td>NaN</td>\n",
       "      <td>NaN</td>\n",
       "      <td>NaN</td>\n",
       "      <td>1</td>\n",
       "      <td>03/01/2022</td>\n",
       "      <td>Vente</td>\n",
       "      <td>...</td>\n",
       "      <td>NaN</td>\n",
       "      <td>1</td>\n",
       "      <td>2.0</td>\n",
       "      <td>Appartement</td>\n",
       "      <td>NaN</td>\n",
       "      <td>140.0</td>\n",
       "      <td>3.0</td>\n",
       "      <td>NaN</td>\n",
       "      <td>NaN</td>\n",
       "      <td>NaN</td>\n",
       "    </tr>\n",
       "    <tr>\n",
       "      <th>4</th>\n",
       "      <td>NaN</td>\n",
       "      <td>NaN</td>\n",
       "      <td>NaN</td>\n",
       "      <td>NaN</td>\n",
       "      <td>NaN</td>\n",
       "      <td>NaN</td>\n",
       "      <td>NaN</td>\n",
       "      <td>1</td>\n",
       "      <td>04/01/2022</td>\n",
       "      <td>Vente</td>\n",
       "      <td>...</td>\n",
       "      <td>NaN</td>\n",
       "      <td>0</td>\n",
       "      <td>NaN</td>\n",
       "      <td>NaN</td>\n",
       "      <td>NaN</td>\n",
       "      <td>NaN</td>\n",
       "      <td>NaN</td>\n",
       "      <td>T</td>\n",
       "      <td>NaN</td>\n",
       "      <td>510.0</td>\n",
       "    </tr>\n",
       "  </tbody>\n",
       "</table>\n",
       "<p>5 rows × 43 columns</p>\n",
       "</div>"
      ],
      "text/plain": [
       "   Identifiant de document  Reference document  1 Articles CGI  \\\n",
       "0                      NaN                 NaN             NaN   \n",
       "1                      NaN                 NaN             NaN   \n",
       "2                      NaN                 NaN             NaN   \n",
       "3                      NaN                 NaN             NaN   \n",
       "4                      NaN                 NaN             NaN   \n",
       "\n",
       "   2 Articles CGI  3 Articles CGI  4 Articles CGI  5 Articles CGI  \\\n",
       "0             NaN             NaN             NaN             NaN   \n",
       "1             NaN             NaN             NaN             NaN   \n",
       "2             NaN             NaN             NaN             NaN   \n",
       "3             NaN             NaN             NaN             NaN   \n",
       "4             NaN             NaN             NaN             NaN   \n",
       "\n",
       "   No disposition Date mutation Nature mutation  ...  \\\n",
       "0               1    03/01/2022           Vente  ...   \n",
       "1               1    03/01/2022           Vente  ...   \n",
       "2               1    03/01/2022           Vente  ...   \n",
       "3               1    03/01/2022           Vente  ...   \n",
       "4               1    04/01/2022           Vente  ...   \n",
       "\n",
       "  Surface Carrez du 5eme lot  Nombre de lots Code type local   Type local  \\\n",
       "0                        NaN               1             2.0  Appartement   \n",
       "1                        NaN               0             NaN          NaN   \n",
       "2                        NaN               0             NaN          NaN   \n",
       "3                        NaN               1             2.0  Appartement   \n",
       "4                        NaN               0             NaN          NaN   \n",
       "\n",
       "  Identifiant local Surface reelle bati  Nombre pieces principales  \\\n",
       "0               NaN                24.0                        1.0   \n",
       "1               NaN                 NaN                        NaN   \n",
       "2               NaN                 NaN                        NaN   \n",
       "3               NaN               140.0                        3.0   \n",
       "4               NaN                 NaN                        NaN   \n",
       "\n",
       "  Nature culture Nature culture speciale  Surface terrain  \n",
       "0            NaN                     NaN              NaN  \n",
       "1              S                     NaN             84.0  \n",
       "2              S                     NaN             88.0  \n",
       "3            NaN                     NaN              NaN  \n",
       "4              T                     NaN            510.0  \n",
       "\n",
       "[5 rows x 43 columns]"
      ]
     },
     "execution_count": 4,
     "metadata": {},
     "output_type": "execute_result"
    }
   ],
   "source": [
    "df.head()"
   ]
  },
  {
   "cell_type": "code",
   "execution_count": 5,
   "id": "2b6058fc",
   "metadata": {},
   "outputs": [
    {
     "data": {
      "text/html": [
       "<div>\n",
       "<style scoped>\n",
       "    .dataframe tbody tr th:only-of-type {\n",
       "        vertical-align: middle;\n",
       "    }\n",
       "\n",
       "    .dataframe tbody tr th {\n",
       "        vertical-align: top;\n",
       "    }\n",
       "\n",
       "    .dataframe thead th {\n",
       "        text-align: right;\n",
       "    }\n",
       "</style>\n",
       "<table border=\"1\" class=\"dataframe\">\n",
       "  <thead>\n",
       "    <tr style=\"text-align: right;\">\n",
       "      <th></th>\n",
       "      <th>Geo Point</th>\n",
       "      <th>Geo Shape</th>\n",
       "      <th>codeunique</th>\n",
       "      <th>nom_long</th>\n",
       "      <th>label</th>\n",
       "      <th>id_ref_ZdC</th>\n",
       "      <th>nom_ZdC</th>\n",
       "      <th>id_ref_ZdA</th>\n",
       "      <th>nom_ZdA</th>\n",
       "      <th>idrefliga</th>\n",
       "      <th>...</th>\n",
       "      <th>terrer</th>\n",
       "      <th>termetro</th>\n",
       "      <th>tertram</th>\n",
       "      <th>ternavette</th>\n",
       "      <th>terval</th>\n",
       "      <th>exploitant</th>\n",
       "      <th>principal</th>\n",
       "      <th>idf</th>\n",
       "      <th>x</th>\n",
       "      <th>y</th>\n",
       "    </tr>\n",
       "  </thead>\n",
       "  <tbody>\n",
       "    <tr>\n",
       "      <th>0</th>\n",
       "      <td>48.68969201295396, 2.3834027864558514</td>\n",
       "      <td>{\"coordinates\": [2.383402786455851, 48.6896920...</td>\n",
       "      <td>151.0</td>\n",
       "      <td>Juvisy</td>\n",
       "      <td>Juvisy</td>\n",
       "      <td>478505.0</td>\n",
       "      <td>Juvisy</td>\n",
       "      <td>45739.0</td>\n",
       "      <td>Juvisy</td>\n",
       "      <td>A01840 / A01842</td>\n",
       "      <td>...</td>\n",
       "      <td>0</td>\n",
       "      <td>0</td>\n",
       "      <td>0</td>\n",
       "      <td>0</td>\n",
       "      <td>0</td>\n",
       "      <td>SNCF</td>\n",
       "      <td>1.0</td>\n",
       "      <td>1.0</td>\n",
       "      <td>654613.5017</td>\n",
       "      <td>6.843460e+06</td>\n",
       "    </tr>\n",
       "    <tr>\n",
       "      <th>1</th>\n",
       "      <td>49.135474143729056, 3.0756265643189287</td>\n",
       "      <td>{\"coordinates\": [3.075626564318929, 49.1354741...</td>\n",
       "      <td>516.0</td>\n",
       "      <td>Mareuil-sur-Ourcq</td>\n",
       "      <td>Mareuil-sur-Ourcq</td>\n",
       "      <td>411376.0</td>\n",
       "      <td>Mareuil-sur-Ourcq</td>\n",
       "      <td>411375.0</td>\n",
       "      <td>Mareuil-sur-Ourcq</td>\n",
       "      <td>A01844</td>\n",
       "      <td>...</td>\n",
       "      <td>0</td>\n",
       "      <td>0</td>\n",
       "      <td>0</td>\n",
       "      <td>0</td>\n",
       "      <td>0</td>\n",
       "      <td>SNCF</td>\n",
       "      <td>0.0</td>\n",
       "      <td>0.0</td>\n",
       "      <td>705519.3000</td>\n",
       "      <td>6.892856e+06</td>\n",
       "    </tr>\n",
       "    <tr>\n",
       "      <th>2</th>\n",
       "      <td>48.87520826454632, 2.6375907212580163</td>\n",
       "      <td>{\"coordinates\": [2.637590721258016, 48.8752082...</td>\n",
       "      <td>2.0</td>\n",
       "      <td>Vaires-Torcy</td>\n",
       "      <td>Vaires-Torcy</td>\n",
       "      <td>68419.0</td>\n",
       "      <td>Vaires - Torcy</td>\n",
       "      <td>43211.0</td>\n",
       "      <td>Vaires - Torcy</td>\n",
       "      <td>A01844</td>\n",
       "      <td>...</td>\n",
       "      <td>0</td>\n",
       "      <td>0</td>\n",
       "      <td>0</td>\n",
       "      <td>0</td>\n",
       "      <td>0</td>\n",
       "      <td>SNCF</td>\n",
       "      <td>0.0</td>\n",
       "      <td>1.0</td>\n",
       "      <td>673418.2649</td>\n",
       "      <td>6.863970e+06</td>\n",
       "    </tr>\n",
       "    <tr>\n",
       "      <th>3</th>\n",
       "      <td>48.88218913668722, 2.706014181118421</td>\n",
       "      <td>{\"coordinates\": [2.706014181118421, 48.8821891...</td>\n",
       "      <td>3.0</td>\n",
       "      <td>Lagny-Thorigny</td>\n",
       "      <td>Lagny-Thorigny</td>\n",
       "      <td>68494.0</td>\n",
       "      <td>Lagny - Thorigny</td>\n",
       "      <td>427872.0</td>\n",
       "      <td>Lagny - Thorigny</td>\n",
       "      <td>A01844</td>\n",
       "      <td>...</td>\n",
       "      <td>0</td>\n",
       "      <td>0</td>\n",
       "      <td>0</td>\n",
       "      <td>0</td>\n",
       "      <td>0</td>\n",
       "      <td>SNCF</td>\n",
       "      <td>0.0</td>\n",
       "      <td>1.0</td>\n",
       "      <td>678439.8038</td>\n",
       "      <td>6.864726e+06</td>\n",
       "    </tr>\n",
       "    <tr>\n",
       "      <th>4</th>\n",
       "      <td>48.79565481959573, 2.650387669808481</td>\n",
       "      <td>{\"coordinates\": [2.650387669808481, 48.7956548...</td>\n",
       "      <td>10.0</td>\n",
       "      <td>Roissy-en-Brie</td>\n",
       "      <td>Roissy-en-Brie</td>\n",
       "      <td>67839.0</td>\n",
       "      <td>Roissy-en-Brie</td>\n",
       "      <td>46568.0</td>\n",
       "      <td>Roissy-en-Brie</td>\n",
       "      <td>A01843</td>\n",
       "      <td>...</td>\n",
       "      <td>0</td>\n",
       "      <td>0</td>\n",
       "      <td>0</td>\n",
       "      <td>0</td>\n",
       "      <td>0</td>\n",
       "      <td>SNCF</td>\n",
       "      <td>0.0</td>\n",
       "      <td>1.0</td>\n",
       "      <td>674317.7148</td>\n",
       "      <td>6.855121e+06</td>\n",
       "    </tr>\n",
       "  </tbody>\n",
       "</table>\n",
       "<p>5 rows × 32 columns</p>\n",
       "</div>"
      ],
      "text/plain": [
       "                                Geo Point  \\\n",
       "0   48.68969201295396, 2.3834027864558514   \n",
       "1  49.135474143729056, 3.0756265643189287   \n",
       "2   48.87520826454632, 2.6375907212580163   \n",
       "3    48.88218913668722, 2.706014181118421   \n",
       "4    48.79565481959573, 2.650387669808481   \n",
       "\n",
       "                                           Geo Shape  codeunique  \\\n",
       "0  {\"coordinates\": [2.383402786455851, 48.6896920...       151.0   \n",
       "1  {\"coordinates\": [3.075626564318929, 49.1354741...       516.0   \n",
       "2  {\"coordinates\": [2.637590721258016, 48.8752082...         2.0   \n",
       "3  {\"coordinates\": [2.706014181118421, 48.8821891...         3.0   \n",
       "4  {\"coordinates\": [2.650387669808481, 48.7956548...        10.0   \n",
       "\n",
       "            nom_long              label  id_ref_ZdC            nom_ZdC  \\\n",
       "0             Juvisy             Juvisy    478505.0             Juvisy   \n",
       "1  Mareuil-sur-Ourcq  Mareuil-sur-Ourcq    411376.0  Mareuil-sur-Ourcq   \n",
       "2       Vaires-Torcy       Vaires-Torcy     68419.0     Vaires - Torcy   \n",
       "3     Lagny-Thorigny     Lagny-Thorigny     68494.0   Lagny - Thorigny   \n",
       "4     Roissy-en-Brie     Roissy-en-Brie     67839.0     Roissy-en-Brie   \n",
       "\n",
       "   id_ref_ZdA            nom_ZdA        idrefliga  ... terrer termetro  \\\n",
       "0     45739.0             Juvisy  A01840 / A01842  ...      0        0   \n",
       "1    411375.0  Mareuil-sur-Ourcq           A01844  ...      0        0   \n",
       "2     43211.0     Vaires - Torcy           A01844  ...      0        0   \n",
       "3    427872.0   Lagny - Thorigny           A01844  ...      0        0   \n",
       "4     46568.0     Roissy-en-Brie           A01843  ...      0        0   \n",
       "\n",
       "  tertram  ternavette  terval  exploitant  principal  idf            x  \\\n",
       "0       0           0       0        SNCF        1.0  1.0  654613.5017   \n",
       "1       0           0       0        SNCF        0.0  0.0  705519.3000   \n",
       "2       0           0       0        SNCF        0.0  1.0  673418.2649   \n",
       "3       0           0       0        SNCF        0.0  1.0  678439.8038   \n",
       "4       0           0       0        SNCF        0.0  1.0  674317.7148   \n",
       "\n",
       "              y  \n",
       "0  6.843460e+06  \n",
       "1  6.892856e+06  \n",
       "2  6.863970e+06  \n",
       "3  6.864726e+06  \n",
       "4  6.855121e+06  \n",
       "\n",
       "[5 rows x 32 columns]"
      ]
     },
     "execution_count": 5,
     "metadata": {},
     "output_type": "execute_result"
    }
   ],
   "source": [
    "data.head()"
   ]
  },
  {
   "cell_type": "code",
   "execution_count": 6,
   "id": "0838d344",
   "metadata": {},
   "outputs": [
    {
     "name": "stdout",
     "output_type": "stream",
     "text": [
      "<class 'pandas.core.frame.DataFrame'>\n"
     ]
    }
   ],
   "source": [
    "print(type(df))"
   ]
  },
  {
   "cell_type": "code",
   "execution_count": 7,
   "id": "6343d1be",
   "metadata": {},
   "outputs": [
    {
     "name": "stdout",
     "output_type": "stream",
     "text": [
      "['Identifiant de document', 'Reference document', '1 Articles CGI', '2 Articles CGI', '3 Articles CGI', '4 Articles CGI', '5 Articles CGI', 'Identifiant local']\n"
     ]
    }
   ],
   "source": [
    "def trouver_colonnes_nan(df):\n",
    "    colonnes_nan = []\n",
    "    for colonne in df.columns:\n",
    "        if df[colonne].isnull().all():\n",
    "            colonnes_nan.append(colonne)\n",
    "    return colonnes_nan\n",
    "\n",
    "colonnes_nan = trouver_colonnes_nan(df)\n",
    "print(trouver_colonnes_nan(df))"
   ]
  },
  {
   "cell_type": "code",
   "execution_count": 8,
   "id": "b15a241c",
   "metadata": {},
   "outputs": [
    {
     "name": "stdout",
     "output_type": "stream",
     "text": [
      "<class 'pandas.core.frame.DataFrame'>\n",
      "RangeIndex: 3803885 entries, 0 to 3803884\n",
      "Data columns (total 43 columns):\n",
      " #   Column                      Dtype  \n",
      "---  ------                      -----  \n",
      " 0   Identifiant de document     float64\n",
      " 1   Reference document          float64\n",
      " 2   1 Articles CGI              float64\n",
      " 3   2 Articles CGI              float64\n",
      " 4   3 Articles CGI              float64\n",
      " 5   4 Articles CGI              float64\n",
      " 6   5 Articles CGI              float64\n",
      " 7   No disposition              int64  \n",
      " 8   Date mutation               object \n",
      " 9   Nature mutation             object \n",
      " 10  Valeur fonciere             object \n",
      " 11  No voie                     float64\n",
      " 12  B/T/Q                       object \n",
      " 13  Type de voie                object \n",
      " 14  Code voie                   object \n",
      " 15  Voie                        object \n",
      " 16  Code postal                 float64\n",
      " 17  Commune                     object \n",
      " 18  Code departement            object \n",
      " 19  Code commune                int64  \n",
      " 20  Prefixe de section          float64\n",
      " 21  Section                     object \n",
      " 22  No plan                     int64  \n",
      " 23  No Volume                   object \n",
      " 24  1er lot                     object \n",
      " 25  Surface Carrez du 1er lot   object \n",
      " 26  2eme lot                    object \n",
      " 27  Surface Carrez du 2eme lot  object \n",
      " 28  3eme lot                    object \n",
      " 29  Surface Carrez du 3eme lot  object \n",
      " 30  4eme lot                    float64\n",
      " 31  Surface Carrez du 4eme lot  object \n",
      " 32  5eme lot                    float64\n",
      " 33  Surface Carrez du 5eme lot  object \n",
      " 34  Nombre de lots              int64  \n",
      " 35  Code type local             float64\n",
      " 36  Type local                  object \n",
      " 37  Identifiant local           float64\n",
      " 38  Surface reelle bati         float64\n",
      " 39  Nombre pieces principales   float64\n",
      " 40  Nature culture              object \n",
      " 41  Nature culture speciale     object \n",
      " 42  Surface terrain             float64\n",
      "dtypes: float64(17), int64(4), object(22)\n",
      "memory usage: 1.2+ GB\n"
     ]
    }
   ],
   "source": [
    "df.info()"
   ]
  },
  {
   "cell_type": "code",
   "execution_count": 35,
   "id": "0b373338",
   "metadata": {},
   "outputs": [
    {
     "data": {
      "text/plain": [
       "<AxesSubplot:>"
      ]
     },
     "execution_count": 35,
     "metadata": {},
     "output_type": "execute_result"
    },
    {
     "data": {
      "image/png": "[encoded data removed]",
      "text/plain": [
       "<Figure size 640x480 with 1 Axes>"
      ]
     },
     "metadata": {},
     "output_type": "display_data"
    }
   ],
   "source": [
    "df['Nature mutation'].value_counts().plot(kind='bar')\n"
   ]
  },
  {
   "cell_type": "code",
   "execution_count": null,
   "id": "5da4497e",
   "metadata": {},
   "outputs": [],
   "source": [
    "cols_to_keep = []"
   ]
  },
  {
   "cell_type": "code",
   "execution_count": 25,
   "id": "10db3ead",
   "metadata": {},
   "outputs": [
    {
     "data": {
      "text/plain": [
       "Index(['Identifiant de document', 'Reference document', '1 Articles CGI',\n",
       "       '2 Articles CGI', '3 Articles CGI', '4 Articles CGI', '5 Articles CGI',\n",
       "       'No disposition', 'Date mutation', 'Nature mutation', 'Valeur fonciere',\n",
       "       'No voie', 'B/T/Q', 'Type de voie', 'Code voie', 'Voie', 'Code postal',\n",
       "       'Commune', 'Code departement', 'Code commune', 'Prefixe de section',\n",
       "       'Section', 'No plan', 'No Volume', '1er lot',\n",
       "       'Surface Carrez du 1er lot', '2eme lot', 'Surface Carrez du 2eme lot',\n",
       "       '3eme lot', 'Surface Carrez du 3eme lot', '4eme lot',\n",
       "       'Surface Carrez du 4eme lot', '5eme lot', 'Surface Carrez du 5eme lot',\n",
       "       'Nombre de lots', 'Code type local', 'Type local', 'Identifiant local',\n",
       "       'Surface reelle bati', 'Nombre pieces principales', 'Nature culture',\n",
       "       'Nature culture speciale', 'Surface terrain', 'prix_par_m2'],\n",
       "      dtype='object')"
      ]
     },
     "execution_count": 25,
     "metadata": {},
     "output_type": "execute_result"
    }
   ],
   "source": [
    "df.columns"
   ]
  },
  {
   "cell_type": "code",
   "execution_count": null,
   "id": "bdc7401f",
   "metadata": {},
   "outputs": [],
   "source": []
  },
  {
   "cell_type": "code",
   "execution_count": null,
   "id": "48928aba",
   "metadata": {},
   "outputs": [],
   "source": []
  },
  {
   "cell_type": "code",
   "execution_count": null,
   "id": "bb3973f3",
   "metadata": {},
   "outputs": [],
   "source": []
  },
  {
   "cell_type": "code",
   "execution_count": null,
   "id": "9341c3e7",
   "metadata": {},
   "outputs": [],
   "source": []
  },
  {
   "cell_type": "markdown",
   "id": "799ba3af",
   "metadata": {},
   "source": [
    "### prix au m2 par ville et par département"
   ]
  },
  {
   "cell_type": "code",
   "execution_count": 9,
   "id": "e138cf63",
   "metadata": {},
   "outputs": [],
   "source": [
    "df[\"Valeur fonciere\"].dropna(inplace=True)\n",
    "df[\"Surface terrain\"].dropna(inplace=True)"
   ]
  },
  {
   "cell_type": "code",
   "execution_count": 10,
   "id": "d892413a",
   "metadata": {},
   "outputs": [],
   "source": [
    "df[\"Valeur fonciere\"]= df[\"Valeur fonciere\"].str.replace(',', '.')"
   ]
  },
  {
   "cell_type": "code",
   "execution_count": 11,
   "id": "9a92e663",
   "metadata": {},
   "outputs": [
    {
     "data": {
      "text/plain": [
       "0            55000.00\n",
       "1           143000.00\n",
       "2           143000.00\n",
       "3           143000.00\n",
       "4              300.00\n",
       "              ...    \n",
       "3803880    3500000.00\n",
       "3803881     525000.00\n",
       "3803882     525000.00\n",
       "3803883      15500.00\n",
       "3803884      30000.00\n",
       "Name: Valeur fonciere, Length: 3803885, dtype: object"
      ]
     },
     "execution_count": 11,
     "metadata": {},
     "output_type": "execute_result"
    }
   ],
   "source": [
    "df[\"Valeur fonciere\"]"
   ]
  },
  {
   "cell_type": "code",
   "execution_count": 12,
   "id": "863a09e1",
   "metadata": {},
   "outputs": [],
   "source": [
    "df[\"Valeur fonciere\"]= df[\"Valeur fonciere\"].astype(float)"
   ]
  },
  {
   "cell_type": "code",
   "execution_count": 13,
   "id": "5cc74b55",
   "metadata": {},
   "outputs": [],
   "source": [
    "df[\"prix_par_m2\"] = df[\"Valeur fonciere\"] / df[\"Surface terrain\"]"
   ]
  },
  {
   "cell_type": "code",
   "execution_count": 14,
   "id": "d850abc8",
   "metadata": {},
   "outputs": [
    {
     "data": {
      "text/plain": [
       "0                  NaN\n",
       "1          1702.380952\n",
       "2          1625.000000\n",
       "3                  NaN\n",
       "4             0.588235\n",
       "              ...     \n",
       "3803880            NaN\n",
       "3803881            NaN\n",
       "3803882            NaN\n",
       "3803883            NaN\n",
       "3803884            NaN\n",
       "Name: prix_par_m2, Length: 3803885, dtype: float64"
      ]
     },
     "execution_count": 14,
     "metadata": {},
     "output_type": "execute_result"
    }
   ],
   "source": [
    "df[\"prix_par_m2\"]"
   ]
  },
  {
   "cell_type": "code",
   "execution_count": 15,
   "id": "e5b1c2a7",
   "metadata": {},
   "outputs": [],
   "source": [
    "moyennes_par_departement = df.groupby(\"Code departement\")[\"prix_par_m2\"].mean()"
   ]
  },
  {
   "cell_type": "code",
   "execution_count": 16,
   "id": "fd037a8c",
   "metadata": {},
   "outputs": [
    {
     "ename": "NameError",
     "evalue": "name 'df_prix_m2_par_departement' is not defined",
     "output_type": "error",
     "traceback": [
      "\u001b[1;31m---------------------------------------------------------------------------\u001b[0m",
      "\u001b[1;31mNameError\u001b[0m                                 Traceback (most recent call last)",
      "\u001b[1;32m~\\AppData\\Local\\Temp\\ipykernel_4516\\2184991474.py\u001b[0m in \u001b[0;36m<module>\u001b[1;34m\u001b[0m\n\u001b[1;32m----> 1\u001b[1;33m \u001b[0mdf_prix_m2_par_departement\u001b[0m\u001b[1;33m[\u001b[0m\u001b[1;34m'Code departement'\u001b[0m\u001b[1;33m]\u001b[0m\u001b[1;33m\u001b[0m\u001b[1;33m\u001b[0m\u001b[0m\n\u001b[0m",
      "\u001b[1;31mNameError\u001b[0m: name 'df_prix_m2_par_departement' is not defined"
     ]
    }
   ],
   "source": [
    "df_prix_m2_par_departement['Code departement']"
   ]
  },
  {
   "cell_type": "code",
   "execution_count": null,
   "id": "354154c8",
   "metadata": {},
   "outputs": [],
   "source": [
    "df_prix_m2_par_departement = pd.DataFrame({\n",
    "    \"Code departement\": moyennes_par_departement.index,\n",
    "    \"prix_par_m2\": moyennes_par_departement.values})\n",
    "\n",
    "df_prix_m2_par_departement"
   ]
  },
  {
   "cell_type": "code",
   "execution_count": null,
   "id": "18e2fbed",
   "metadata": {},
   "outputs": [],
   "source": [
    "import matplotlib.pyplot as plt\n",
    "df_prix_m2_par_departement[\"prix_par_m2\"] = df_prix_m2_par_departement[\"prix_par_m2\"].astype(float)\n",
    "\n",
    "# Définir les données pour l'axe horizontal et vertical\n",
    "x = df_prix_m2_par_departement['Code departement']\n",
    "y = df_prix_m2_par_departement['prix_par_m2']\n",
    "\n",
    "# Créer un graphique de type barres horizontales\n",
    "fig, ax = plt.subplots(figsize=(10,10))\n",
    "ax.barh(x, y)\n",
    "\n",
    "# Définir le titre du graphique et les étiquettes des axes\n",
    "ax.set_title('Prix moyen par mètre carré par département')\n",
    "ax.set_xlabel('Prix moyen par mètre carré (en euros)')\n",
    "ax.set_ylabel('Département')\n",
    "\n",
    "# Afficher le graphique\n",
    "plt.show()\n"
   ]
  },
  {
   "cell_type": "code",
   "execution_count": null,
   "id": "c859f984",
   "metadata": {},
   "outputs": [],
   "source": [
    "df75 = df_prix_m2_par_departement.iloc[72]\n",
    "df75\n"
   ]
  },
  {
   "cell_type": "code",
   "execution_count": null,
   "id": "f56e9cb1",
   "metadata": {},
   "outputs": [],
   "source": [
    "moyennes_par_commune = df.groupby(\"Commune\")[\"prix_par_m2\"].mean()"
   ]
  },
  {
   "cell_type": "code",
   "execution_count": null,
   "id": "8dbbd7f6",
   "metadata": {},
   "outputs": [],
   "source": [
    "df_prix_m2_par_commune = pd.DataFrame({\n",
    "    \"Code departement\": moyennes_par_commune.index,\n",
    "    \"prix_par_m2\": moyennes_par_commune.values})"
   ]
  },
  {
   "cell_type": "code",
   "execution_count": null,
   "id": "cc8c17d3",
   "metadata": {},
   "outputs": [],
   "source": [
    "df_prix_m2_par_commune"
   ]
  },
  {
   "cell_type": "code",
   "execution_count": null,
   "id": "87647f36",
   "metadata": {},
   "outputs": [],
   "source": [
    "df['Surface Carrez du 1er lot']"
   ]
  },
  {
   "cell_type": "code",
   "execution_count": null,
   "id": "13708f41",
   "metadata": {},
   "outputs": [],
   "source": [
    "# Surface moyenne batie par departement\n",
    "surf_moy_par_dep = df.groupby('Code departement')['Surface reelle bati'].mean()\n"
   ]
  },
  {
   "cell_type": "code",
   "execution_count": 172,
   "id": "ff71b0a8",
   "metadata": {},
   "outputs": [
    {
     "data": {
      "text/plain": [
       "Code departement\n",
       "1                                                           75.616513\n",
       "2                                                           75.456832\n",
       "3                                                           60.103379\n",
       "4                                                           70.572585\n",
       "5                                                           49.597886\n",
       "                                          ...                        \n",
       "29                                                          70.144419\n",
       "2A                                                          80.934715\n",
       "2B                                                          58.863525\n",
       "30                                                          56.431494\n",
       "Code departement    Float64Index([  1.0,   2.0,   3.0,   4.0,   5....\n",
       "Name: Surface reelle bati, Length: 100, dtype: object"
      ]
     },
     "execution_count": 172,
     "metadata": {},
     "output_type": "execute_result"
    }
   ],
   "source": [
    "surf_moy_par_dep"
   ]
  },
  {
   "cell_type": "code",
   "execution_count": 182,
   "id": "b74f1395",
   "metadata": {},
   "outputs": [],
   "source": [
    "# conversion de la colonne en numérique\n",
    "surf_moy_par_dep['Code departement'] = pd.to_numeric(surf_moy_par_dep.index, errors='coerce')\n",
    "\n",
    "# suppression des NaN\n",
    "surf_moy_par_dep['Code departement'] = surf_moy_par_dep['Code departement'].dropna()"
   ]
  },
  {
   "cell_type": "code",
   "execution_count": 185,
   "id": "815b1398",
   "metadata": {},
   "outputs": [
    {
     "name": "stdout",
     "output_type": "stream",
     "text": [
      "Int64Index([  1,   2,   3,   4,   5,   6,   7,   8,   9,  10,  11,  12,  13,\n",
      "             14,  15,  16,  17,  18,  19,  21,  22,  23,  24,  25,  26,  27,\n",
      "             28,  29,  30,  31,  32,  33,  34,  35,  36,  37,  38,  39,  40,\n",
      "             41,  42,  43,  44,  45,  46,  47,  48,  49,  50,  51,  52,  53,\n",
      "             54,  55,  56,  58,  59,  60,  61,  62,  63,  64,  65,  66,  69,\n",
      "             70,  71,  72,  73,  74,  75,  76,  77,  78,  79,  80,  81,  82,\n",
      "             83,  84,  85,  86,  87,  88,  89,  90,  91,  92,  93,  94,  95,\n",
      "            971, 972, 973, 974],\n",
      "           dtype='int64', name='Code departement')\n"
     ]
    }
   ],
   "source": [
    "print(surf_moy_par_dep['Code departement'].unique())"
   ]
  },
  {
   "cell_type": "code",
   "execution_count": 184,
   "id": "d475cb41",
   "metadata": {},
   "outputs": [],
   "source": [
    "#il reste quelque strings que nous allons changer en int\n",
    "surf_moy_par_dep['Code departement'] = surf_moy_par_dep['Code departement'].astype(int)"
   ]
  },
  {
   "cell_type": "code",
   "execution_count": 211,
   "id": "bb06da72",
   "metadata": {},
   "outputs": [],
   "source": [
    "# conversion de la colonne en numérique\n",
    "surf_moy_par_dep['surface_moyenne'] = pd.to_numeric(surf_moy_par_dep.values, errors='coerce')\n",
    "#surf_moy_par_dep['surface_moyenne'] = surf_moy_par_dep['surface_moyenne'].dropna(inplace=True)\n",
    "\n",
    "#on a ici une erreur : L'erreur indique que la méthode dropna ne peut pas être utilisée sur un objet de type numpy.ndarray.\n",
    "#on utilise donc isnan\n",
    "\n",
    "# Créer un masque booléen pour les valeurs nulles\n",
    "mask = np.isnan(surf_moy_par_dep['surface_moyenne'])\n",
    "\n",
    "# Sélectionner les valeurs non nulles à l'aide du masque\n",
    "surf_moy_par_dep['surface_moyenne'] = surf_moy_par_dep['surface_moyenne'][~mask]"
   ]
  },
  {
   "cell_type": "code",
   "execution_count": 213,
   "id": "04dce0a1",
   "metadata": {},
   "outputs": [
    {
     "data": {
      "text/plain": [
       "dtype('float64')"
      ]
     },
     "execution_count": 213,
     "metadata": {},
     "output_type": "execute_result"
    }
   ],
   "source": [
    "surf_moy_par_dep['surface_moyenne'].dtype"
   ]
  },
  {
   "cell_type": "code",
   "execution_count": 207,
   "id": "9201dfeb",
   "metadata": {},
   "outputs": [],
   "source": [
    "surf_moy_par_dep['surface_moyenne'] = surf_moy_par_dep['surface_moyenne'].tolist()"
   ]
  },
  {
   "cell_type": "code",
   "execution_count": 208,
   "id": "c6775163",
   "metadata": {},
   "outputs": [
    {
     "ename": "AttributeError",
     "evalue": "'list' object has no attribute 'astype'",
     "output_type": "error",
     "traceback": [
      "\u001b[1;31m---------------------------------------------------------------------------\u001b[0m",
      "\u001b[1;31mAttributeError\u001b[0m                            Traceback (most recent call last)",
      "\u001b[1;32m~\\AppData\\Local\\Temp\\ipykernel_90636\\2905620248.py\u001b[0m in \u001b[0;36m<module>\u001b[1;34m\u001b[0m\n\u001b[0;32m      1\u001b[0m \u001b[1;31m# Convertir la colonne en question en float\u001b[0m\u001b[1;33m\u001b[0m\u001b[1;33m\u001b[0m\u001b[0m\n\u001b[1;32m----> 2\u001b[1;33m \u001b[0msurf_moy_par_dep\u001b[0m\u001b[1;33m[\u001b[0m\u001b[1;34m'surface_moyenne'\u001b[0m\u001b[1;33m]\u001b[0m \u001b[1;33m=\u001b[0m \u001b[0msurf_moy_par_dep\u001b[0m\u001b[1;33m[\u001b[0m\u001b[1;34m'surface_moyenne'\u001b[0m\u001b[1;33m]\u001b[0m\u001b[1;33m.\u001b[0m\u001b[0mastype\u001b[0m\u001b[1;33m(\u001b[0m\u001b[0mfloat\u001b[0m\u001b[1;33m)\u001b[0m\u001b[1;33m\u001b[0m\u001b[1;33m\u001b[0m\u001b[0m\n\u001b[0m",
      "\u001b[1;31mAttributeError\u001b[0m: 'list' object has no attribute 'astype'"
     ]
    }
   ],
   "source": [
    "# Convertir la colonne en question en float\n",
    "surf_moy_par_dep['surface_moyenne'] = surf_moy_par_dep['surface_moyenne'].astype(float)"
   ]
  },
  {
   "cell_type": "code",
   "execution_count": 209,
   "id": "ec131835",
   "metadata": {},
   "outputs": [
    {
     "ename": "TypeError",
     "evalue": "the dtypes of parameters x (object) and width (float64) are incompatible",
     "output_type": "error",
     "traceback": [
      "\u001b[1;31m---------------------------------------------------------------------------\u001b[0m",
      "\u001b[1;31mTypeError\u001b[0m                                 Traceback (most recent call last)",
      "\u001b[1;32m~\\anaconda3\\lib\\site-packages\\matplotlib\\axes\\_axes.py\u001b[0m in \u001b[0;36mbar\u001b[1;34m(self, x, height, width, bottom, align, **kwargs)\u001b[0m\n\u001b[0;32m   2372\u001b[0m                 \u001b[1;32mtry\u001b[0m\u001b[1;33m:\u001b[0m\u001b[1;33m\u001b[0m\u001b[1;33m\u001b[0m\u001b[0m\n\u001b[1;32m-> 2373\u001b[1;33m                     \u001b[0mleft\u001b[0m \u001b[1;33m=\u001b[0m \u001b[0mx\u001b[0m \u001b[1;33m-\u001b[0m \u001b[0mwidth\u001b[0m \u001b[1;33m/\u001b[0m \u001b[1;36m2\u001b[0m\u001b[1;33m\u001b[0m\u001b[1;33m\u001b[0m\u001b[0m\n\u001b[0m\u001b[0;32m   2374\u001b[0m                 \u001b[1;32mexcept\u001b[0m \u001b[0mTypeError\u001b[0m \u001b[1;32mas\u001b[0m \u001b[0me\u001b[0m\u001b[1;33m:\u001b[0m\u001b[1;33m\u001b[0m\u001b[1;33m\u001b[0m\u001b[0m\n",
      "\u001b[1;31mTypeError\u001b[0m: unsupported operand type(s) for -: 'str' and 'float'",
      "\nThe above exception was the direct cause of the following exception:\n",
      "\u001b[1;31mTypeError\u001b[0m                                 Traceback (most recent call last)",
      "\u001b[1;32m~\\AppData\\Local\\Temp\\ipykernel_90636\\3710266248.py\u001b[0m in \u001b[0;36m<module>\u001b[1;34m\u001b[0m\n\u001b[0;32m      1\u001b[0m \u001b[1;31m# Créer un graphique à barres pour afficher la surface moyenne par département\u001b[0m\u001b[1;33m\u001b[0m\u001b[1;33m\u001b[0m\u001b[0m\n\u001b[1;32m----> 2\u001b[1;33m \u001b[0mplt\u001b[0m\u001b[1;33m.\u001b[0m\u001b[0mbar\u001b[0m\u001b[1;33m(\u001b[0m\u001b[0msurf_moy_par_dep\u001b[0m\u001b[1;33m.\u001b[0m\u001b[0mindex\u001b[0m\u001b[1;33m,\u001b[0m \u001b[0msurf_moy_par_dep\u001b[0m\u001b[1;33m.\u001b[0m\u001b[0mvalues\u001b[0m\u001b[1;33m)\u001b[0m\u001b[1;33m\u001b[0m\u001b[1;33m\u001b[0m\u001b[0m\n\u001b[0m\u001b[0;32m      3\u001b[0m \u001b[1;33m\u001b[0m\u001b[0m\n\u001b[0;32m      4\u001b[0m \u001b[1;31m# Ajouter des étiquettes pour l'axe des x et l'axe des y\u001b[0m\u001b[1;33m\u001b[0m\u001b[1;33m\u001b[0m\u001b[0m\n\u001b[0;32m      5\u001b[0m \u001b[0mplt\u001b[0m\u001b[1;33m.\u001b[0m\u001b[0mxlabel\u001b[0m\u001b[1;33m(\u001b[0m\u001b[1;34m'Département'\u001b[0m\u001b[1;33m)\u001b[0m\u001b[1;33m\u001b[0m\u001b[1;33m\u001b[0m\u001b[0m\n",
      "\u001b[1;32m~\\anaconda3\\lib\\site-packages\\matplotlib\\pyplot.py\u001b[0m in \u001b[0;36mbar\u001b[1;34m(x, height, width, bottom, align, data, **kwargs)\u001b[0m\n\u001b[0;32m   2397\u001b[0m         \u001b[0mx\u001b[0m\u001b[1;33m,\u001b[0m \u001b[0mheight\u001b[0m\u001b[1;33m,\u001b[0m \u001b[0mwidth\u001b[0m\u001b[1;33m=\u001b[0m\u001b[1;36m0.8\u001b[0m\u001b[1;33m,\u001b[0m \u001b[0mbottom\u001b[0m\u001b[1;33m=\u001b[0m\u001b[1;32mNone\u001b[0m\u001b[1;33m,\u001b[0m \u001b[1;33m*\u001b[0m\u001b[1;33m,\u001b[0m \u001b[0malign\u001b[0m\u001b[1;33m=\u001b[0m\u001b[1;34m'center'\u001b[0m\u001b[1;33m,\u001b[0m\u001b[1;33m\u001b[0m\u001b[1;33m\u001b[0m\u001b[0m\n\u001b[0;32m   2398\u001b[0m         data=None, **kwargs):\n\u001b[1;32m-> 2399\u001b[1;33m     return gca().bar(\n\u001b[0m\u001b[0;32m   2400\u001b[0m         \u001b[0mx\u001b[0m\u001b[1;33m,\u001b[0m \u001b[0mheight\u001b[0m\u001b[1;33m,\u001b[0m \u001b[0mwidth\u001b[0m\u001b[1;33m=\u001b[0m\u001b[0mwidth\u001b[0m\u001b[1;33m,\u001b[0m \u001b[0mbottom\u001b[0m\u001b[1;33m=\u001b[0m\u001b[0mbottom\u001b[0m\u001b[1;33m,\u001b[0m \u001b[0malign\u001b[0m\u001b[1;33m=\u001b[0m\u001b[0malign\u001b[0m\u001b[1;33m,\u001b[0m\u001b[1;33m\u001b[0m\u001b[1;33m\u001b[0m\u001b[0m\n\u001b[0;32m   2401\u001b[0m         **({\"data\": data} if data is not None else {}), **kwargs)\n",
      "\u001b[1;32m~\\anaconda3\\lib\\site-packages\\matplotlib\\__init__.py\u001b[0m in \u001b[0;36minner\u001b[1;34m(ax, data, *args, **kwargs)\u001b[0m\n\u001b[0;32m   1410\u001b[0m     \u001b[1;32mdef\u001b[0m \u001b[0minner\u001b[0m\u001b[1;33m(\u001b[0m\u001b[0max\u001b[0m\u001b[1;33m,\u001b[0m \u001b[1;33m*\u001b[0m\u001b[0margs\u001b[0m\u001b[1;33m,\u001b[0m \u001b[0mdata\u001b[0m\u001b[1;33m=\u001b[0m\u001b[1;32mNone\u001b[0m\u001b[1;33m,\u001b[0m \u001b[1;33m**\u001b[0m\u001b[0mkwargs\u001b[0m\u001b[1;33m)\u001b[0m\u001b[1;33m:\u001b[0m\u001b[1;33m\u001b[0m\u001b[1;33m\u001b[0m\u001b[0m\n\u001b[0;32m   1411\u001b[0m         \u001b[1;32mif\u001b[0m \u001b[0mdata\u001b[0m \u001b[1;32mis\u001b[0m \u001b[1;32mNone\u001b[0m\u001b[1;33m:\u001b[0m\u001b[1;33m\u001b[0m\u001b[1;33m\u001b[0m\u001b[0m\n\u001b[1;32m-> 1412\u001b[1;33m             \u001b[1;32mreturn\u001b[0m \u001b[0mfunc\u001b[0m\u001b[1;33m(\u001b[0m\u001b[0max\u001b[0m\u001b[1;33m,\u001b[0m \u001b[1;33m*\u001b[0m\u001b[0mmap\u001b[0m\u001b[1;33m(\u001b[0m\u001b[0msanitize_sequence\u001b[0m\u001b[1;33m,\u001b[0m \u001b[0margs\u001b[0m\u001b[1;33m)\u001b[0m\u001b[1;33m,\u001b[0m \u001b[1;33m**\u001b[0m\u001b[0mkwargs\u001b[0m\u001b[1;33m)\u001b[0m\u001b[1;33m\u001b[0m\u001b[1;33m\u001b[0m\u001b[0m\n\u001b[0m\u001b[0;32m   1413\u001b[0m \u001b[1;33m\u001b[0m\u001b[0m\n\u001b[0;32m   1414\u001b[0m         \u001b[0mbound\u001b[0m \u001b[1;33m=\u001b[0m \u001b[0mnew_sig\u001b[0m\u001b[1;33m.\u001b[0m\u001b[0mbind\u001b[0m\u001b[1;33m(\u001b[0m\u001b[0max\u001b[0m\u001b[1;33m,\u001b[0m \u001b[1;33m*\u001b[0m\u001b[0margs\u001b[0m\u001b[1;33m,\u001b[0m \u001b[1;33m**\u001b[0m\u001b[0mkwargs\u001b[0m\u001b[1;33m)\u001b[0m\u001b[1;33m\u001b[0m\u001b[1;33m\u001b[0m\u001b[0m\n",
      "\u001b[1;32m~\\anaconda3\\lib\\site-packages\\matplotlib\\axes\\_axes.py\u001b[0m in \u001b[0;36mbar\u001b[1;34m(self, x, height, width, bottom, align, **kwargs)\u001b[0m\n\u001b[0;32m   2373\u001b[0m                     \u001b[0mleft\u001b[0m \u001b[1;33m=\u001b[0m \u001b[0mx\u001b[0m \u001b[1;33m-\u001b[0m \u001b[0mwidth\u001b[0m \u001b[1;33m/\u001b[0m \u001b[1;36m2\u001b[0m\u001b[1;33m\u001b[0m\u001b[1;33m\u001b[0m\u001b[0m\n\u001b[0;32m   2374\u001b[0m                 \u001b[1;32mexcept\u001b[0m \u001b[0mTypeError\u001b[0m \u001b[1;32mas\u001b[0m \u001b[0me\u001b[0m\u001b[1;33m:\u001b[0m\u001b[1;33m\u001b[0m\u001b[1;33m\u001b[0m\u001b[0m\n\u001b[1;32m-> 2375\u001b[1;33m                     raise TypeError(f'the dtypes of parameters x ({x.dtype}) '\n\u001b[0m\u001b[0;32m   2376\u001b[0m                                     \u001b[1;34mf'and width ({width.dtype}) '\u001b[0m\u001b[1;33m\u001b[0m\u001b[1;33m\u001b[0m\u001b[0m\n\u001b[0;32m   2377\u001b[0m                                     f'are incompatible') from e\n",
      "\u001b[1;31mTypeError\u001b[0m: the dtypes of parameters x (object) and width (float64) are incompatible"
     ]
    },
    {
     "data": {
      "image/png": "[encoded data removed]",
      "text/plain": [
       "<Figure size 640x480 with 1 Axes>"
      ]
     },
     "metadata": {},
     "output_type": "display_data"
    }
   ],
   "source": [
    "# Créer un graphique à barres pour afficher la surface moyenne par département\n",
    "plt.bar(surf_moy_par_dep.index, surf_moy_par_dep.values)\n",
    "\n",
    "# Ajouter des étiquettes pour l'axe des x et l'axe des y\n",
    "plt.xlabel('Département')\n",
    "plt.ylabel('Surface moyenne bâtie (m²)')\n",
    "\n",
    "# Afficher le graphique\n",
    "plt.show()"
   ]
  },
  {
   "cell_type": "markdown",
   "id": "53cbf2a1",
   "metadata": {},
   "source": [
    "# Etude sur le choix de la meilleure ville "
   ]
  },
  {
   "cell_type": "code",
   "execution_count": 150,
   "id": "68aef869",
   "metadata": {},
   "outputs": [],
   "source": [
    "df_nombre_de_ventes=df[df['Code departement']==dep].count()\n"
   ]
  },
  {
   "cell_type": "code",
   "execution_count": 151,
   "id": "9696e129",
   "metadata": {},
   "outputs": [],
   "source": [
    "df_nombre_de_ventes = df.groupby('Code departement')['No voie'].count().reset_index(name='nombre de ventes')\n",
    "\n",
    "\n",
    "\n",
    "\n"
   ]
  },
  {
   "cell_type": "code",
   "execution_count": 152,
   "id": "19ea494b",
   "metadata": {},
   "outputs": [
    {
     "name": "stdout",
     "output_type": "stream",
     "text": [
      "<class 'pandas.core.frame.DataFrame'>\n",
      "RangeIndex: 99 entries, 0 to 98\n",
      "Data columns (total 2 columns):\n",
      " #   Column            Non-Null Count  Dtype \n",
      "---  ------            --------------  ----- \n",
      " 0   Code departement  99 non-null     object\n",
      " 1   nombre de ventes  99 non-null     int64 \n",
      "dtypes: int64(1), object(1)\n",
      "memory usage: 1.7+ KB\n"
     ]
    }
   ],
   "source": [
    "df_nombre_de_ventes.info()"
   ]
  },
  {
   "cell_type": "code",
   "execution_count": 153,
   "id": "53ec424d",
   "metadata": {},
   "outputs": [
    {
     "name": "stdout",
     "output_type": "stream",
     "text": [
      "[1 2 3 4 5 6 7 8 9 10 11 12 13 14 15 16 17 18 19 21 22 23 24 25 26 27 28\n",
      " 29 30 31 32 33 34 35 36 37 38 39 40 41 42 43 44 45 46 47 48 49 50 51 52\n",
      " 53 54 55 56 58 59 60 61 62 63 64 65 66 69 70 71 72 73 74 75 76 77 78 79\n",
      " 80 81 82 83 84 85 86 87 88 89 90 91 92 93 94 95 971 972 973 974 '29' '2A'\n",
      " '2B' '30']\n"
     ]
    }
   ],
   "source": [
    "#test pour voir le type de données dans la colonne Code departement\n",
    "print(df_nombre_de_ventes['Code departement'].unique())"
   ]
  },
  {
   "cell_type": "code",
   "execution_count": 154,
   "id": "600d103d",
   "metadata": {},
   "outputs": [
    {
     "name": "stdout",
     "output_type": "stream",
     "text": [
      "[18305 19674 18927  3452  5537 91253  6495  9568  7525 10200 16433  6770\n",
      " 59753 20616  5513 17326 31585 16448  9101 13770 27771  4505 20752 16874\n",
      " 22244 17918 22875 22314 29120 62949  8349 78946 62983 49559  7584 23281\n",
      " 18732 11624 20417 17533 39560  7582 68108 31842  8209 14114  2272 27170\n",
      " 13850 10624  5984 13020 32482  4848 28412 11352 92503 25807  8847 40088\n",
      "  8336 25908 11161 10102 84443  7903 17872 27562 27495 26974 97039 52850\n",
      " 59679 55760 17953 15294 10547  8322 54202 25102 37767 19576 19364 17494\n",
      " 14670  6573 47857 73647 46548 52742 41225  1965  4409  2968 11370  2876\n",
      "  4351  3275  8222]\n"
     ]
    }
   ],
   "source": [
    "print(df_nombre_de_ventes['nombre de ventes'].unique())"
   ]
  },
  {
   "cell_type": "code",
   "execution_count": 155,
   "id": "28d6f946",
   "metadata": {},
   "outputs": [],
   "source": [
    "# conversion de la colonne en numérique\n",
    "df_nombre_de_ventes['Code departement'] = pd.to_numeric(df_nombre_de_ventes['Code departement'], errors='coerce')\n",
    "\n",
    "# suppression des NaN\n",
    "df_nombre_de_ventes = df_nombre_de_ventes.dropna()"
   ]
  },
  {
   "cell_type": "code",
   "execution_count": 156,
   "id": "8c3eaa78",
   "metadata": {},
   "outputs": [],
   "source": [
    "#il reste quelque strings que nous allons changer en int\n",
    "df_nombre_de_ventes['Code departement'] = df_nombre_de_ventes['Code departement'].astype(int)"
   ]
  },
  {
   "cell_type": "code",
   "execution_count": 157,
   "id": "1b4800d2",
   "metadata": {},
   "outputs": [
    {
     "data": {
      "image/png": "[encoded data removed]",
      "text/plain": [
       "<Figure size 640x480 with 1 Axes>"
      ]
     },
     "metadata": {},
     "output_type": "display_data"
    }
   ],
   "source": [
    "import matplotlib.pyplot as plt\n",
    "\n",
    "plt.bar(df_nombre_de_ventes['Code departement'], df_nombre_de_ventes['nombre de ventes'])\n",
    "plt.xlabel('Département')\n",
    "plt.ylabel('Nombre de ventes')\n",
    "plt.show()\n"
   ]
  },
  {
   "cell_type": "code",
   "execution_count": 147,
   "id": "a1622343",
   "metadata": {},
   "outputs": [
    {
     "data": {
      "text/plain": [
       "75"
      ]
     },
     "execution_count": 147,
     "metadata": {},
     "output_type": "execute_result"
    }
   ],
   "source": [
    "dep_avec_le_plus_de_vente = df_nombre_de_ventes.groupby('Code departement')['nombre de ventes'].sum().idxmax()\n",
    "\n",
    "dep_avec_le_plus_de_vente "
   ]
  },
  {
   "cell_type": "code",
   "execution_count": null,
   "id": "77b61bbc",
   "metadata": {},
   "outputs": [],
   "source": [
    "#ainsi la ville la plus demandé est Paris\n",
    "#ce critère nous montre que l'étude sur les stations de métros les plus proches de Paris est intéressante"
   ]
  },
  {
   "cell_type": "markdown",
   "id": "e07d6c23",
   "metadata": {},
   "source": [
    "# Etude sur les stations de métros les plus proches de Paris"
   ]
  },
  {
   "cell_type": "code",
   "execution_count": 25,
   "id": "808dcf22",
   "metadata": {},
   "outputs": [
    {
     "name": "stdout",
     "output_type": "stream",
     "text": [
      "0            BOURG-EN-BRESSE\n",
      "1                  SAVIGNEUX\n",
      "2                  SAVIGNEUX\n",
      "3                  SAVIGNEUX\n",
      "4          MESSIMY SUR SAONE\n",
      "                 ...        \n",
      "3803880             PARIS 14\n",
      "3803881             PARIS 15\n",
      "3803882             PARIS 15\n",
      "3803883             PARIS 13\n",
      "3803884             PARIS 11\n",
      "Name: Commune, Length: 3803885, dtype: object\n"
     ]
    }
   ],
   "source": [
    "print(df[\"Commune\"])"
   ]
  },
  {
   "cell_type": "code",
   "execution_count": 26,
   "id": "c4dd4638",
   "metadata": {},
   "outputs": [
    {
     "data": {
      "text/plain": [
       "4526"
      ]
     },
     "execution_count": 26,
     "metadata": {},
     "output_type": "execute_result"
    }
   ],
   "source": [
    "count_paris_13 = (df[\"Commune\"] == \"PARIS 13\").value_counts()[True]\n",
    "count_paris_13"
   ]
  },
  {
   "cell_type": "code",
   "execution_count": 27,
   "id": "115add5d",
   "metadata": {},
   "outputs": [],
   "source": [
    "nombre_de_donnees_paris = df[\"Commune\"].str.contains(\"PARIS\").sum()"
   ]
  },
  {
   "cell_type": "code",
   "execution_count": 28,
   "id": "e375e017",
   "metadata": {},
   "outputs": [
    {
     "data": {
      "text/plain": [
       "102362"
      ]
     },
     "execution_count": 28,
     "metadata": {},
     "output_type": "execute_result"
    }
   ],
   "source": [
    "nombre_de_donnees_paris"
   ]
  },
  {
   "cell_type": "code",
   "execution_count": 29,
   "id": "4eeca8cc",
   "metadata": {},
   "outputs": [],
   "source": [
    "df_paris = df[df[\"Commune\"] == \"PARIS 13\"]\n"
   ]
  },
  {
   "cell_type": "code",
   "execution_count": 30,
   "id": "078f8afe",
   "metadata": {},
   "outputs": [
    {
     "name": "stdout",
     "output_type": "stream",
     "text": [
      "<class 'pandas.core.frame.DataFrame'>\n",
      "Int64Index: 4526 entries, 3753029 to 3803883\n",
      "Data columns (total 44 columns):\n",
      " #   Column                      Non-Null Count  Dtype  \n",
      "---  ------                      --------------  -----  \n",
      " 0   Identifiant de document     0 non-null      float64\n",
      " 1   Reference document          0 non-null      float64\n",
      " 2   1 Articles CGI              0 non-null      float64\n",
      " 3   2 Articles CGI              0 non-null      float64\n",
      " 4   3 Articles CGI              0 non-null      float64\n",
      " 5   4 Articles CGI              0 non-null      float64\n",
      " 6   5 Articles CGI              0 non-null      float64\n",
      " 7   No disposition              4526 non-null   int64  \n",
      " 8   Date mutation               4526 non-null   object \n",
      " 9   Nature mutation             4526 non-null   object \n",
      " 10  Valeur fonciere             4491 non-null   float64\n",
      " 11  No voie                     4229 non-null   float64\n",
      " 12  B/T/Q                       157 non-null    object \n",
      " 13  Type de voie                4227 non-null   object \n",
      " 14  Code voie                   4229 non-null   object \n",
      " 15  Voie                        4229 non-null   object \n",
      " 16  Code postal                 4229 non-null   float64\n",
      " 17  Commune                     4526 non-null   object \n",
      " 18  Code departement            4526 non-null   object \n",
      " 19  Code commune                4526 non-null   int64  \n",
      " 20  Prefixe de section          0 non-null      float64\n",
      " 21  Section                     4526 non-null   object \n",
      " 22  No plan                     4526 non-null   int64  \n",
      " 23  No Volume                   177 non-null    object \n",
      " 24  1er lot                     4257 non-null   object \n",
      " 25  Surface Carrez du 1er lot   1792 non-null   object \n",
      " 26  2eme lot                    2211 non-null   object \n",
      " 27  Surface Carrez du 2eme lot  643 non-null    object \n",
      " 28  3eme lot                    206 non-null    object \n",
      " 29  Surface Carrez du 3eme lot  30 non-null     object \n",
      " 30  4eme lot                    81 non-null     float64\n",
      " 31  Surface Carrez du 4eme lot  10 non-null     object \n",
      " 32  5eme lot                    29 non-null     float64\n",
      " 33  Surface Carrez du 5eme lot  3 non-null      object \n",
      " 34  Nombre de lots              4526 non-null   int64  \n",
      " 35  Code type local             4117 non-null   float64\n",
      " 36  Type local                  4117 non-null   object \n",
      " 37  Identifiant local           0 non-null      float64\n",
      " 38  Surface reelle bati         4117 non-null   float64\n",
      " 39  Nombre pieces principales   4117 non-null   float64\n",
      " 40  Nature culture              92 non-null     object \n",
      " 41  Nature culture speciale     0 non-null      object \n",
      " 42  Surface terrain             92 non-null     float64\n",
      " 43  prix_par_m2                 68 non-null     float64\n",
      "dtypes: float64(19), int64(4), object(21)\n",
      "memory usage: 1.6+ MB\n"
     ]
    }
   ],
   "source": [
    "df_paris.info()"
   ]
  },
  {
   "cell_type": "code",
   "execution_count": 31,
   "id": "65df5e8c",
   "metadata": {},
   "outputs": [],
   "source": [
    "df_paris = df_paris.drop(columns=[col for col in df_paris.columns if col not in [\"No voie\", \"Type de voie\", \"Voie\", \"Commune\"]])\n"
   ]
  },
  {
   "cell_type": "code",
   "execution_count": 51,
   "id": "87caae7c",
   "metadata": {},
   "outputs": [
    {
     "name": "stdout",
     "output_type": "stream",
     "text": [
      "<class 'pandas.core.frame.DataFrame'>\n",
      "Int64Index: 1113 entries, 3753029 to 3803819\n",
      "Data columns (total 5 columns):\n",
      " #   Column        Non-Null Count  Dtype  \n",
      "---  ------        --------------  -----  \n",
      " 0   No voie       1112 non-null   float64\n",
      " 1   Type de voie  1111 non-null   object \n",
      " 2   Voie          1112 non-null   object \n",
      " 3   Commune       1113 non-null   object \n",
      " 4   Adresse       1113 non-null   object \n",
      "dtypes: float64(1), object(4)\n",
      "memory usage: 52.2+ KB\n"
     ]
    }
   ],
   "source": [
    "df_paris.info()"
   ]
  },
  {
   "cell_type": "code",
   "execution_count": 33,
   "id": "a818cffd",
   "metadata": {},
   "outputs": [],
   "source": [
    "df_paris['Commune'] = 'Paris, France'"
   ]
  },
  {
   "cell_type": "code",
   "execution_count": 75,
   "id": "c0da04bc",
   "metadata": {},
   "outputs": [
    {
     "data": {
      "text/plain": [
       "3753029    Paris, France\n",
       "3753030    Paris, France\n",
       "3753037    Paris, France\n",
       "3753039    Paris, France\n",
       "3753068    Paris, France\n",
       "               ...      \n",
       "3803509    Paris, France\n",
       "3803609    Paris, France\n",
       "3803610    Paris, France\n",
       "3803796    Paris, France\n",
       "3803819    Paris, France\n",
       "Name: Commune, Length: 1113, dtype: object"
      ]
     },
     "execution_count": 75,
     "metadata": {},
     "output_type": "execute_result"
    }
   ],
   "source": [
    "df_paris['Commune']"
   ]
  },
  {
   "cell_type": "code",
   "execution_count": 57,
   "id": "f3c9bb8a",
   "metadata": {},
   "outputs": [
    {
     "data": {
      "text/plain": [
       "3753029    10\n",
       "3753030     5\n",
       "3753037    47\n",
       "3753039     1\n",
       "3753068    38\n",
       "           ..\n",
       "3803509    12\n",
       "3803609    43\n",
       "3803610    47\n",
       "3803796    49\n",
       "3803819    34\n",
       "Name: No voie, Length: 1113, dtype: int32"
      ]
     },
     "execution_count": 57,
     "metadata": {},
     "output_type": "execute_result"
    }
   ],
   "source": [
    "# Remplacer les valeurs manquantes par 0\n",
    "df_paris['No voie'].fillna(0, inplace=True)\n",
    "\n",
    "df_paris['No voie'] = df_paris['No voie'].astype(int)\n",
    "df_paris['No voie']"
   ]
  },
  {
   "cell_type": "code",
   "execution_count": 35,
   "id": "43441037",
   "metadata": {},
   "outputs": [],
   "source": [
    "df_paris['Voie'] = df_paris['Voie'].str.title()\n",
    "df_paris['Type de voie'] = df_paris['Type de voie'].str.lower()\n"
   ]
  },
  {
   "cell_type": "code",
   "execution_count": 68,
   "id": "a12eeb71",
   "metadata": {},
   "outputs": [
    {
     "data": {
      "text/plain": [
       "3753029    rue\n",
       "3753030    rue\n",
       "3753037     bd\n",
       "3753039    rue\n",
       "3753068    rue\n",
       "          ... \n",
       "3803509    rue\n",
       "3803609    rue\n",
       "3803610    rue\n",
       "3803796     bd\n",
       "3803819    rue\n",
       "Name: Type de voie, Length: 1113, dtype: object"
      ]
     },
     "execution_count": 68,
     "metadata": {},
     "output_type": "execute_result"
    }
   ],
   "source": [
    "df_paris['Type de voie']"
   ]
  },
  {
   "cell_type": "code",
   "execution_count": 36,
   "id": "0f014759",
   "metadata": {},
   "outputs": [],
   "source": [
    "df_paris['Adresse'] = df_paris.apply(lambda row: f\"{row['No voie']} {row['Type de voie']} {row['Voie']}, {row['Commune']}\", axis=1)"
   ]
  },
  {
   "cell_type": "code",
   "execution_count": 37,
   "id": "5b520b9f",
   "metadata": {},
   "outputs": [],
   "source": [
    "df_paris['Adresse'] = df_paris['Adresse'].str.replace('.0', '', regex=False)\n",
    "df_paris['Adresse'] = df_paris['Adresse'].str.replace('De ', 'de ', regex=False)\n",
    "df_paris['Adresse'] = df_paris['Adresse'].str.replace('Du ', 'du ', regex=False)"
   ]
  },
  {
   "cell_type": "code",
   "execution_count": 38,
   "id": "34b65069",
   "metadata": {},
   "outputs": [
    {
     "data": {
      "text/plain": [
       "3753029      10 rue Xaintrailles, Paris, France\n",
       "3753030            5 rue Leredde, Paris, France\n",
       "3753031            5 rue Leredde, Paris, France\n",
       "3753032            5 rue Leredde, Paris, France\n",
       "3753037      47 bd de Port-Royal, Paris, France\n",
       "                           ...                 \n",
       "3803796       49 bd Saint Marcel, Paris, France\n",
       "3803815           17 av D Italie, Paris, France\n",
       "3803819    34 rue de L Esperance, Paris, France\n",
       "3803859            84 bd Massena, Paris, France\n",
       "3803883          69 rue Barrault, Paris, France\n",
       "Name: Adresse, Length: 4526, dtype: object"
      ]
     },
     "execution_count": 38,
     "metadata": {},
     "output_type": "execute_result"
    }
   ],
   "source": [
    "df_paris['Adresse']"
   ]
  },
  {
   "cell_type": "code",
   "execution_count": 39,
   "id": "a1aab2cd",
   "metadata": {},
   "outputs": [],
   "source": [
    "#on supprime les dupplications\n",
    "df_paris.drop_duplicates(subset=\"Adresse\", keep=\"first\", inplace=True)"
   ]
  },
  {
   "cell_type": "code",
   "execution_count": 40,
   "id": "dc910875",
   "metadata": {},
   "outputs": [
    {
     "data": {
      "text/plain": [
       "['10 rue Xaintrailles, Paris, France',\n",
       " '5 rue Leredde, Paris, France',\n",
       " '47 bd de Port-Royal, Paris, France',\n",
       " '1 rue Samson, Paris, France',\n",
       " '38 rue de Campo Formio, Paris, France',\n",
       " '11 rue du Moulin Des Pres, Paris, France',\n",
       " '4 sq Albin Cachot, Paris, France',\n",
       " '2 sq Albin Cachot, Paris, France',\n",
       " '20 rue de La Providence, Paris, France',\n",
       " '32 rue Des Cinq Diamants, Paris, France',\n",
       " '7 rue Henri Pape, Paris, France',\n",
       " '28 rue Des Tanneries, Paris, France',\n",
       " '7 rue Jules Breton, Paris, France',\n",
       " '30 av D Italie, Paris, France',\n",
       " '14 rue Brillat Savarin, Paris, France',\n",
       " '102 bd Kellermann, Paris, France',\n",
       " '70 rue du Dessous Des Berges, Paris, France',\n",
       " '12 pl Farhat Hached, Paris, France',\n",
       " '8 pl Farhat Hached, Paris, France',\n",
       " '84 rue Vergniaud, Paris, France',\n",
       " '25 rue Albert, Paris, France',\n",
       " '5 rue de La Vistule, Paris, France',\n",
       " '132 bd Vincent Auriol, Paris, France',\n",
       " '65 rue de Tolbiac, Paris, France',\n",
       " '21 rue Vergniaud, Paris, France',\n",
       " '2 rue de Reims, Paris, France',\n",
       " '124 bd Auguste Blanqui, Paris, France',\n",
       " '88 av D Italie, Paris, France',\n",
       " '19 rue Bobillot, Paris, France',\n",
       " '37 rue de Tolbiac, Paris, France',\n",
       " '6 sq Albin Cachot, Paris, France',\n",
       " '36 rue de La Butte Aux Cailles, Paris, France',\n",
       " '20 rue Clisson, Paris, France',\n",
       " '6 rue Bobillot, Paris, France',\n",
       " '40 av D Italie, Paris, France',\n",
       " '31 av Des Gobelins, Paris, France',\n",
       " '73 bd Vincent Auriol, Paris, France',\n",
       " '55 rue Bobillot, Paris, France',\n",
       " '121 av D Italie, Paris, France',\n",
       " '16 rue Albert, Paris, France',\n",
       " '39 rue Bobillot, Paris, France',\n",
       " '31 rue Caillaux, Paris, France',\n",
       " '20 rue Albert, Paris, France',\n",
       " '19 rue Damesme, Paris, France',\n",
       " '105 rue Bobillot, Paris, France',\n",
       " '8 av de Choisy, Paris, France',\n",
       " '18 bd Vincent Auriol, Paris, France',\n",
       " '86 av de Choisy, Paris, France',\n",
       " '40 rue du Tage, Paris, France',\n",
       " '116 rue de Patay, Paris, France',\n",
       " '4 rue Dumeril, Paris, France',\n",
       " '30 rue Jean Colly, Paris, France',\n",
       " '1 rue Bellier Dedouvre, Paris, France',\n",
       " '49 av D Italie, Paris, France',\n",
       " '3 rue Des Orchidees, Paris, France',\n",
       " '21 rue de Patay, Paris, France',\n",
       " '25 rue Des Cordelieres, Paris, France',\n",
       " '45 rue Clisson, Paris, France',\n",
       " '17 av D Italie, Paris, France',\n",
       " '89 bd de Port-Royal, Paris, France',\n",
       " '37 rue Bobillot, Paris, France',\n",
       " '5 rue Primatice, Paris, France',\n",
       " '9 rue Albert Bayet, Paris, France',\n",
       " '21 rue du Champ de L Alouette, Paris, France',\n",
       " '30 rue de Tolbiac, Paris, France',\n",
       " '10 sq Albin Cachot, Paris, France',\n",
       " '36 rue Eugene Oudine, Paris, France',\n",
       " '43 rue de L Amiral Mouchez, Paris, France',\n",
       " '50 bd Arago, Paris, France',\n",
       " '175 rue de Tolbiac, Paris, France',\n",
       " '14 rue Vulpian, Paris, France',\n",
       " '33 av D Italie, Paris, France',\n",
       " '110 av D Italie, Paris, France',\n",
       " '5 rue Baudoin, Paris, France',\n",
       " '10 rue de Reims, Paris, France',\n",
       " '7 bd de Port-Royal, Paris, France',\n",
       " '172 av de Choisy, Paris, France',\n",
       " '14 rue de La Butte Aux Cailles, Paris, France',\n",
       " '69 rue de La Glaciere, Paris, France',\n",
       " '56 rue Dunois, Paris, France',\n",
       " '161 rue du Chevaleret, Paris, France',\n",
       " '94 av de Choisy, Paris, France',\n",
       " '2 rue Rubens, Paris, France',\n",
       " '3 rue Michal, Paris, France',\n",
       " '55 rue Jeanne D Arc, Paris, France',\n",
       " '69 rue Bobillot, Paris, France',\n",
       " '174 rue de Tolbiac, Paris, France',\n",
       " '15 rue Esquirol, Paris, France',\n",
       " '20 rue Jean Colly, Paris, France',\n",
       " '3 rue Xaintrailles, Paris, France',\n",
       " '8 rue Leredde, Paris, France',\n",
       " '25 bd Arago, Paris, France',\n",
       " 'nan nan nan, Paris, France',\n",
       " '29 vla Auguste Blanqui, Paris, France',\n",
       " '20 rue Nationale, Paris, France',\n",
       " '14 rue de La Maison Blanche, Paris, France',\n",
       " '19 rue Des Cordelieres, Paris, France',\n",
       " '17 rue Des Cordelieres, Paris, France',\n",
       " '96 bd Kellermann, Paris, France',\n",
       " '19 rue Alphand, Paris, France',\n",
       " '15 rue de La Vistule, Paris, France',\n",
       " '89 rue de La Sante, Paris, France',\n",
       " '111 rue de La Sante, Paris, France',\n",
       " '20 rue Boussingault, Paris, France',\n",
       " '4 rue Des Peupliers, Paris, France',\n",
       " '18 rue Guyton de Morveau, Paris, France',\n",
       " '22 rue du Moulin de La Pointe, Paris, France',\n",
       " '3 sq Albin Cachot, Paris, France',\n",
       " '37 rue Charcot, Paris, France',\n",
       " '58 av de Choisy, Paris, France',\n",
       " '16 rue du Pere Guerin, Paris, France',\n",
       " '31 rue de Domremy, Paris, France',\n",
       " '124 rue de Tolbiac, Paris, France',\n",
       " '73 rue du Chevaleret, Paris, France',\n",
       " '26 pl Jeanne D Arc, Paris, France',\n",
       " '86 rue de La Colonie, Paris, France',\n",
       " '21 rue Charles Fourier, Paris, France',\n",
       " '57 bd Arago, Paris, France',\n",
       " '8 rue de La Glaciere, Paris, France',\n",
       " '7 rue Dunois, Paris, France',\n",
       " '40 rue Charles Moureu, Paris, France',\n",
       " '145 rue de Tolbiac, Paris, France',\n",
       " '17 bd de Port-Royal, Paris, France',\n",
       " '99 rue Bobillot, Paris, France',\n",
       " '72 bd Vincent Auriol, Paris, France',\n",
       " '42 rue de Tolbiac, Paris, France',\n",
       " '152 rue de Tolbiac, Paris, France',\n",
       " '5 pl de Rungis, Paris, France',\n",
       " '13 rue de La Vistule, Paris, France',\n",
       " '11 rue Xaintrailles, Paris, France',\n",
       " '17 rue Xaintrailles, Paris, France',\n",
       " '17 rue Dumeril, Paris, France',\n",
       " '18 rue de La Maison Blanche, Paris, France',\n",
       " '107 av de Choisy, Paris, France',\n",
       " '127 av de France, Paris, France',\n",
       " '8 sq de Port-Royal, Paris, France',\n",
       " '57 av D Italie, Paris, France',\n",
       " '119 av de Choisy, Paris, France',\n",
       " '6 rue Caillaux, Paris, France',\n",
       " '1 rue Jean Marie Jego, Paris, France',\n",
       " '92 rue de Patay, Paris, France',\n",
       " '4 rue Paul Gervais, Paris, France',\n",
       " '36 rue Des Peupliers, Paris, France',\n",
       " '79 rue de Tolbiac, Paris, France',\n",
       " '6 rue Bellier Dedouvre, Paris, France',\n",
       " '84 bd Massena, Paris, France',\n",
       " '94 rue du Dessous Des Berges, Paris, France',\n",
       " '10 vla D Este, Paris, France',\n",
       " '17 rue Des Cinq Diamants, Paris, France',\n",
       " '20 av D Ivry, Paris, France',\n",
       " '4 sq Arago, Paris, France',\n",
       " '16 rue Oudry, Paris, France',\n",
       " '94 rue Broca, Paris, France',\n",
       " '6 rue Augustin Mouchot, Paris, France',\n",
       " '24 rue Madeleine Bres, Paris, France',\n",
       " '27 av D Italie, Paris, France',\n",
       " '31 av D Italie, Paris, France',\n",
       " '18 rue du Moulinet, Paris, France',\n",
       " '12 rue Albert, Paris, France',\n",
       " '40 rue Pascal, Paris, France',\n",
       " '12 rue de La Glaciere, Paris, France',\n",
       " '68 rue Albert, Paris, France',\n",
       " '29 av Des Gobelins, Paris, France',\n",
       " '38 rue Des Cordelieres, Paris, France',\n",
       " '75 rue Broca, Paris, France',\n",
       " '38 rue Gerard, Paris, France',\n",
       " '23 rue Damesme, Paris, France',\n",
       " '89 bd Auguste Blanqui, Paris, France',\n",
       " '16 rue Coypel, Paris, France',\n",
       " '8 av de La Soeur Rosalie, Paris, France',\n",
       " '11 bd Arago, Paris, France',\n",
       " '1 sq Arago, Paris, France',\n",
       " '180 rue Jeanne D Arc, Paris, France',\n",
       " '18 rue Corvisart, Paris, France',\n",
       " '161 av de Choisy, Paris, France',\n",
       " '48 rue de Tolbiac, Paris, France',\n",
       " '8 rue Helene Brion, Paris, France',\n",
       " '19 rue de Croulebarbe, Paris, France',\n",
       " '18 rue de Domremy, Paris, France',\n",
       " '6 rue George Eastman, Paris, France',\n",
       " '149 rue Leon Maurice Nordmann, Paris, France',\n",
       " '139 rue de Tolbiac, Paris, France',\n",
       " '6 rue Vulpian, Paris, France',\n",
       " '65 rue Bobillot, Paris, France',\n",
       " '10 rue Ponscarme, Paris, France',\n",
       " '26 rue Boussingault, Paris, France',\n",
       " '75 rue Bobillot, Paris, France',\n",
       " '5 av de La Porte D Ivry, Paris, France',\n",
       " '149 av de France, Paris, France',\n",
       " '98 bd Auguste Blanqui, Paris, France',\n",
       " '3 rue Des Liserons, Paris, France',\n",
       " '47 bd Arago, Paris, France',\n",
       " '53 rue Boussingault, Paris, France',\n",
       " '11 rue Primo Levi, Paris, France',\n",
       " '5 rue Cacheux, Paris, France',\n",
       " '15 pas Trubert-Bellier, Paris, France',\n",
       " '25 rue Daviel, Paris, France',\n",
       " '72 rue de La Colonie, Paris, France',\n",
       " '15 rue Philibert Lucot, Paris, France',\n",
       " '18 rue Des Cordelieres, Paris, France',\n",
       " '34 rue Gerard, Paris, France',\n",
       " '12 rue Alphand, Paris, France',\n",
       " '19 rue Charles Fourier, Paris, France',\n",
       " '88 av D Ivry, Paris, France',\n",
       " '69 rue Broca, Paris, France',\n",
       " '69 rue Dunois, Paris, France',\n",
       " '105 rue du Moulin Des Pres, Paris, France',\n",
       " '39 bd Saint Marcel, Paris, France',\n",
       " '2 rue Des Wallons, Paris, France',\n",
       " '58 rue Boussingault, Paris, France',\n",
       " '25 rue de La Vistule, Paris, France',\n",
       " '45 bd Saint Marcel, Paris, France',\n",
       " '89 rue Barrault, Paris, France',\n",
       " '8 rue Abel Hovelacque, Paris, France',\n",
       " '108 rue Nationale, Paris, France',\n",
       " '30 rue de Campo Formio, Paris, France',\n",
       " '3 rue Simonet, Paris, France',\n",
       " '94 av D Ivry, Paris, France',\n",
       " '7 rue de La Vistule, Paris, France',\n",
       " '50 rue Corvisart, Paris, France',\n",
       " '8 rue du Pere Guerin, Paris, France',\n",
       " '11 rue Barrault, Paris, France',\n",
       " '80 rue Albert, Paris, France',\n",
       " '82 rue Albert, Paris, France',\n",
       " '62 rue Bobillot, Paris, France',\n",
       " '127 rue Jeanne D Arc, Paris, France',\n",
       " '219 rue de Tolbiac, Paris, France',\n",
       " '37 av de Choisy, Paris, France',\n",
       " '145 av de Choisy, Paris, France',\n",
       " '4 rue Michel Peter, Paris, France',\n",
       " '46 rue de Tolbiac, Paris, France',\n",
       " '24 rue Charcot, Paris, France',\n",
       " '36 av D Italie, Paris, France',\n",
       " '98 rue du Moulin Des Pres, Paris, France',\n",
       " '226 rue de Tolbiac, Paris, France',\n",
       " '3 bd Saint Marcel, Paris, France',\n",
       " '10 rue Veronese, Paris, France',\n",
       " '68 rue Barrault, Paris, France',\n",
       " '33 av Stephen Pichon, Paris, France',\n",
       " '5 rue Des Reculettes, Paris, France',\n",
       " '138 bd Vincent Auriol, Paris, France',\n",
       " '42 rue Des Peupliers, Paris, France',\n",
       " '81 bd Saint Marcel, Paris, France',\n",
       " '43 rue Des Cinq Diamants, Paris, France',\n",
       " '26 rue de La Providence, Paris, France',\n",
       " '23 rue de Domremy, Paris, France',\n",
       " '28 pas Trubert-Bellier, Paris, France',\n",
       " '39 rue Pascal, Paris, France',\n",
       " '5 sq Albin Cachot, Paris, France',\n",
       " '89 rue Broca, Paris, France',\n",
       " '76 rue Bobillot, Paris, France',\n",
       " '4 rue Pinel, Paris, France',\n",
       " '8 pas Vallet, Paris, France',\n",
       " '10 rue du Pere Guerin, Paris, France',\n",
       " '53 rue Pascal, Paris, France',\n",
       " '93 av D Italie, Paris, France',\n",
       " '98 bd Massena, Paris, France',\n",
       " '36 rue de La Glaciere, Paris, France',\n",
       " '14 vla Daviel, Paris, France',\n",
       " '15 rue Des Cinq Diamants, Paris, France',\n",
       " '9 rue Des Cinq Diamants, Paris, France',\n",
       " '16 rue de La Glaciere, Paris, France',\n",
       " '143 rue du Chevaleret, Paris, France',\n",
       " '19 rue Ponscarme, Paris, France',\n",
       " '23 rue du Champ de L Alouette, Paris, France',\n",
       " '2 rue Dumeril, Paris, France',\n",
       " '85 rue Albert, Paris, France',\n",
       " '42 rue de Campo Formio, Paris, France',\n",
       " '20 rue de La Fontaine A Mulard, Paris, France',\n",
       " '5 rue de La Sante, Paris, France',\n",
       " '13 rue Rene Goscinny, Paris, France',\n",
       " '15 rue Rene Goscinny, Paris, France',\n",
       " '26 rue Wurtz, Paris, France',\n",
       " '22 rue Wurtz, Paris, France',\n",
       " '82 bd Massena, Paris, France',\n",
       " '1 rue de Campo Formio, Paris, France',\n",
       " '8 rue Thomas Mann, Paris, France',\n",
       " '71 quai Panhard Et Levassor, Paris, France',\n",
       " '74 rue de La Colonie, Paris, France',\n",
       " '1 rue Charles Fourier, Paris, France',\n",
       " '146 bd Vincent Auriol, Paris, France',\n",
       " '110 av D Ivry, Paris, France',\n",
       " '23 rue du Tage, Paris, France',\n",
       " '22 av de Choisy, Paris, France',\n",
       " '23 vla D Este, Paris, France',\n",
       " '67 rue de Croulebarbe, Paris, France',\n",
       " '125 rue Jeanne D Arc, Paris, France',\n",
       " '33 bd Auguste Blanqui, Paris, France',\n",
       " '27 av Stephen Pichon, Paris, France',\n",
       " '2 rue Kuss, Paris, France',\n",
       " '48 rue Bobillot, Paris, France',\n",
       " '10 rue Marcel Duchamp, Paris, France',\n",
       " '12 rue de La Butte Aux Cailles, Paris, France',\n",
       " '18 rue Philibert Lucot, Paris, France',\n",
       " '35 rue de La Glaciere, Paris, France',\n",
       " '14 rue de Reims, Paris, France',\n",
       " '24 rue de Rungis, Paris, France',\n",
       " '4 rue du Docteur Tuffier, Paris, France',\n",
       " '29 rue du Chateau Des Rentiers, Paris, France',\n",
       " \"1 pl de L'Esc. Normandie Niemen, Paris, France\",\n",
       " '20 rue Charcot, Paris, France',\n",
       " '29 rue Paulin Mery, Paris, France',\n",
       " '85 rue Bobillot, Paris, France',\n",
       " '16 rue de Tolbiac, Paris, France',\n",
       " '192 rue du Chateau Des Rentiers, Paris, France',\n",
       " '64 rue Nationale, Paris, France',\n",
       " '26 rue Des Cordelieres, Paris, France',\n",
       " '33 rue de L Amiral Mouchez, Paris, France',\n",
       " '25 rue Clisson, Paris, France',\n",
       " '2 rue Baudoin, Paris, France',\n",
       " '4 rue Xaintrailles, Paris, France',\n",
       " '50 rue Pascal, Paris, France',\n",
       " '3 rue Des Gobelins, Paris, France',\n",
       " '18 rue Le Dantec, Paris, France',\n",
       " '79 bd Saint Marcel, Paris, France',\n",
       " '105 rue de Patay, Paris, France',\n",
       " '63 av de Choisy, Paris, France',\n",
       " '169 rue de Tolbiac, Paris, France',\n",
       " '46 rue de Domremy, Paris, France',\n",
       " '4 rue Charles Fourier, Paris, France',\n",
       " '7 rue Francoise Dolto, Paris, France',\n",
       " '38 rue Bobillot, Paris, France',\n",
       " '9 rue du Jura, Paris, France',\n",
       " '16 rue Fagon, Paris, France',\n",
       " '33 rue de Croulebarbe, Paris, France',\n",
       " '21 rue Des Terres Au Cure, Paris, France',\n",
       " '28 rue Des Peupliers, Paris, France',\n",
       " '21 rue Oudry, Paris, France',\n",
       " '79 rue Brillat Savarin, Paris, France',\n",
       " '37 rue Le Brun, Paris, France',\n",
       " '19 rue Vergniaud, Paris, France',\n",
       " '204 rue de Tolbiac, Paris, France',\n",
       " '68 bd Auguste Blanqui, Paris, France',\n",
       " '193 rue de Tolbiac, Paris, France',\n",
       " '17 rue Dunois, Paris, France',\n",
       " '7 rue de La Sante, Paris, France',\n",
       " '3 rue Francoise Dolto, Paris, France',\n",
       " '66 rue du Chateau Des Rentiers, Paris, France',\n",
       " '20 rue du Doc Lucas Championniere, Paris, France',\n",
       " '125 rue de La Glaciere, Paris, France',\n",
       " '29 rue Damesme, Paris, France',\n",
       " '41 rue Des Terres Au Cure, Paris, France',\n",
       " '144 rue de Tolbiac, Paris, France',\n",
       " '196 rue de Tolbiac, Paris, France',\n",
       " '6 rue Dumeril, Paris, France',\n",
       " '66 rue Regnault, Paris, France',\n",
       " '12 rue Bobillot, Paris, France',\n",
       " '9 rue Toussaint Feron, Paris, France',\n",
       " '159 av D Italie, Paris, France',\n",
       " '62 rue de La Glaciere, Paris, France',\n",
       " '101 rue du Chevaleret, Paris, France',\n",
       " '3 vla Deloder, Paris, France',\n",
       " '8 rue Des Gobelins, Paris, France',\n",
       " '74 rue Dunois, Paris, France',\n",
       " '68 bd de L Hopital, Paris, France',\n",
       " '9 bd de Port-Royal, Paris, France',\n",
       " '31 rue de Tolbiac, Paris, France',\n",
       " '10 rue de Tolbiac, Paris, France',\n",
       " '98 bd de L Hopital, Paris, France',\n",
       " '7 sq Dunois, Paris, France',\n",
       " '73 rue Bobillot, Paris, France',\n",
       " '57 rue Auguste Lancon, Paris, France',\n",
       " '11 rue Boussingault, Paris, France',\n",
       " '19 rue de La Glaciere, Paris, France',\n",
       " '20 rue Caillaux, Paris, France',\n",
       " '36 rue de Campo Formio, Paris, France',\n",
       " '65 rue du Chevaleret, Paris, France',\n",
       " '59 av Des Gobelins, Paris, France',\n",
       " '61 av Des Gobelins, Paris, France',\n",
       " '72 bd Arago, Paris, France',\n",
       " '27 rue Damesme, Paris, France',\n",
       " '63 rue de La Glaciere, Paris, France',\n",
       " '100 bd Auguste Blanqui, Paris, France',\n",
       " '79 bd Vincent Auriol, Paris, France',\n",
       " '17 pas Barrault, Paris, France',\n",
       " '9 rue Vulpian, Paris, France',\n",
       " '49 rue du Moulin Des Pres, Paris, France',\n",
       " '39 av de Choisy, Paris, France',\n",
       " '8 rue Bruneseau, Paris, France',\n",
       " '9 rue du Docteur Laurent, Paris, France',\n",
       " '29 rue Boussingault, Paris, France',\n",
       " '59 rue de La Sante, Paris, France',\n",
       " '12 rue Marguerite Duras, Paris, France',\n",
       " '2 rue Marguerite Duras, Paris, France',\n",
       " '7 rue Marguerite Duras, Paris, France',\n",
       " '1 rue M.Louise Dubreil Jacotin, Paris, France',\n",
       " '1 rue de La Croix Jarry, Paris, France',\n",
       " '22 bd General Jean Simon, Paris, France',\n",
       " '2 pl Paul Ricoeur, Paris, France',\n",
       " '4 all Paris Ivry, Paris, France',\n",
       " '6 all Paris Ivry, Paris, France',\n",
       " '19 rue Watt, Paris, France',\n",
       " '23 rue Albert Einstein, Paris, France',\n",
       " '21 rue Watt, Paris, France',\n",
       " '15 rue Albert Einstein, Paris, France',\n",
       " '2 rue du Loiret, Paris, France',\n",
       " '43 rue Alice Domon Leonie Duquet, Paris, France',\n",
       " '47 rue Alice Domon Leonie Duquet, Paris, France',\n",
       " '72 rue Des Grands Moulins, Paris, France',\n",
       " '52 rue du Dessous Des Berges, Paris, France',\n",
       " '54 rue Des Grands Moulins, Paris, France',\n",
       " '32 rue Martin Bernard, Paris, France',\n",
       " '15 rue de Bellievre, Paris, France',\n",
       " '19 rue de Bellievre, Paris, France',\n",
       " '17 rue de Bellievre, Paris, France',\n",
       " '151 av de France, Paris, France',\n",
       " '7 voie Gr/13, Paris, France',\n",
       " '1 voie Gr/13, Paris, France',\n",
       " '74 bd Arago, Paris, France',\n",
       " '18 bd General Jean Simon, Paris, France',\n",
       " '12 rue du Champ de L Alouette, Paris, France',\n",
       " '19 rue Lahire, Paris, France',\n",
       " '14 bd Vincent Auriol, Paris, France',\n",
       " '37 rue Nationale, Paris, France',\n",
       " '2 rue Bobillot, Paris, France',\n",
       " '70 rue du Chateau Des Rentiers, Paris, France',\n",
       " '64 rue du Moulin de La Pointe, Paris, France',\n",
       " '16 rue Berbier du Mets, Paris, France',\n",
       " '20 rue de Rungis, Paris, France',\n",
       " '10 rue Vandrezanne, Paris, France',\n",
       " '75 av D Italie, Paris, France',\n",
       " '9 rue Auguste Lancon, Paris, France',\n",
       " '4 rue Veronese, Paris, France',\n",
       " '2 rue Veronese, Paris, France',\n",
       " '52 av de Choisy, Paris, France',\n",
       " '165 av de Choisy, Paris, France',\n",
       " '59 bd Arago, Paris, France',\n",
       " '132 rue Leon Maurice Nordmann, Paris, France',\n",
       " '48 rue Eugene Oudine, Paris, France',\n",
       " '27 av Des Gobelins, Paris, France',\n",
       " '12 rue Veronese, Paris, France',\n",
       " '6 rue Nicolas Roret, Paris, France',\n",
       " '6 rue Simonet, Paris, France',\n",
       " '5 rue Titien, Paris, France',\n",
       " '36 rue de Patay, Paris, France',\n",
       " '162 rue Jeanne D Arc, Paris, France',\n",
       " '139 av D Italie, Paris, France',\n",
       " '42 rue Des Cordelieres, Paris, France',\n",
       " '17 rue du Moulinet, Paris, France',\n",
       " '19 rue de La Butte Aux Cailles, Paris, France',\n",
       " '10 rue Charles Fourier, Paris, France',\n",
       " '8 rue Charles Fourier, Paris, France',\n",
       " '17 rue de La Reine Blanche, Paris, France',\n",
       " '24 rue du Pere Guerin, Paris, France',\n",
       " '14 rue Bobillot, Paris, France',\n",
       " '53 bd Arago, Paris, France',\n",
       " '12 rue Martin Bernard, Paris, France',\n",
       " '106 bd Auguste Blanqui, Paris, France',\n",
       " '53 rue Brillat Savarin, Paris, France',\n",
       " '77 av de France, Paris, France',\n",
       " '71 rue Bobillot, Paris, France',\n",
       " '69 bd Vincent Auriol, Paris, France',\n",
       " '25 rue du Dessous Des Berges, Paris, France',\n",
       " '8 rue du Jura, Paris, France',\n",
       " '80 rue du Dessous Des Berges, Paris, France',\n",
       " '10 rue Corvisart, Paris, France',\n",
       " '4 rue du Jura, Paris, France',\n",
       " '142 bd Vincent Auriol, Paris, France',\n",
       " '6 rue Martin Bernard, Paris, France',\n",
       " '12 rue Ponscarme, Paris, France',\n",
       " '80 rue Nationale, Paris, France',\n",
       " '7 rue Toussaint Feron, Paris, France',\n",
       " '5 sq de Port-Royal, Paris, France',\n",
       " '151 rue du Chevaleret, Paris, France',\n",
       " '3 sq Grange, Paris, France',\n",
       " '22 rue Buot, Paris, France',\n",
       " '19 rue Buot, Paris, France',\n",
       " '12 rue Caillaux, Paris, France',\n",
       " '32 rue Boussingault, Paris, France',\n",
       " '126 bd Auguste Blanqui, Paris, France',\n",
       " '66 bd Vincent Auriol, Paris, France',\n",
       " '71 av Edison, Paris, France',\n",
       " '10 rue du Moulin Des Pres, Paris, France',\n",
       " '112 rue de Patay, Paris, France',\n",
       " '60 rue du Dessous Des Berges, Paris, France',\n",
       " '35 rue de Croulebarbe, Paris, France',\n",
       " '229 rue de Tolbiac, Paris, France',\n",
       " '68 bd Arago, Paris, France',\n",
       " '33 bd Arago, Paris, France',\n",
       " '23 bd Auguste Blanqui, Paris, France',\n",
       " '6 rue de La Providence, Paris, France',\n",
       " '236 rue de Tolbiac, Paris, France',\n",
       " '34 rue Des Cordelieres, Paris, France',\n",
       " '87 rue Bobillot, Paris, France',\n",
       " '10 rue Bobillot, Paris, France',\n",
       " '11 rue Jeanne D Arc, Paris, France',\n",
       " '9 rue Guyton de Morveau, Paris, France',\n",
       " '16 rue Des Cinq Diamants, Paris, France',\n",
       " '54 av D Italie, Paris, France',\n",
       " '39 av Des Gobelins, Paris, France',\n",
       " '9 av D Italie, Paris, France',\n",
       " '32 rue du Banquier, Paris, France',\n",
       " '137 bd Auguste Blanqui, Paris, France',\n",
       " '159 bd Auguste Blanqui, Paris, France',\n",
       " '10 bd Auguste Blanqui, Paris, France',\n",
       " '43 rue du Moulinet, Paris, France',\n",
       " '123 bd Massena, Paris, France',\n",
       " '82 rue Baudricourt, Paris, France',\n",
       " '27 rue du Dessous Des Berges, Paris, France',\n",
       " '20 rue du Banquier, Paris, France',\n",
       " '67 rue du Chateau Des Rentiers, Paris, France',\n",
       " '2 sq Grange, Paris, France',\n",
       " '70 bd Auguste Blanqui, Paris, France',\n",
       " '23 rue de L Esperance, Paris, France',\n",
       " '6 rue du Pere Guerin, Paris, France',\n",
       " '4 pas Boiton, Paris, France',\n",
       " '8 rue de Pouy, Paris, France',\n",
       " '106 rue Nationale, Paris, France',\n",
       " '77 quai Panhard Et Levassor, Paris, France',\n",
       " '49 bd de Port-Royal, Paris, France',\n",
       " '4 rue Dunois, Paris, France',\n",
       " '41 bd Auguste Blanqui, Paris, France',\n",
       " '4 pl D Italie, Paris, France',\n",
       " '6 rue Alphand, Paris, France',\n",
       " '87 rue de Patay, Paris, France',\n",
       " '15 rue Le Brun, Paris, France',\n",
       " '54 rue Dunois, Paris, France',\n",
       " '67 rue Pascal, Paris, France',\n",
       " '7 rue Barrault, Paris, France',\n",
       " '42 rue Pascal, Paris, France',\n",
       " '153 av de Choisy, Paris, France',\n",
       " '30 rue de Patay, Paris, France',\n",
       " '16 rue Vandrezanne, Paris, France',\n",
       " '78 bd Arago, Paris, France',\n",
       " '128 bd Auguste Blanqui, Paris, France',\n",
       " '36 rue du Moulin Des Pres, Paris, France',\n",
       " '3 rue Michel Peter, Paris, France',\n",
       " '16 rue Albert Bayet, Paris, France',\n",
       " '13 rue Des Gobelins, Paris, France',\n",
       " '29 rue de Tolbiac, Paris, France',\n",
       " '147 rue Leon Maurice Nordmann, Paris, France',\n",
       " '81 bd Vincent Auriol, Paris, France',\n",
       " '9 rue de L Amiral Mouchez, Paris, France',\n",
       " '61 rue Pascal, Paris, France',\n",
       " '17 rue du Banquier, Paris, France',\n",
       " '16 bd Vincent Auriol, Paris, France',\n",
       " '25 rue Caillaux, Paris, France',\n",
       " '61 av D Italie, Paris, France',\n",
       " '5 rue Simonet, Paris, France',\n",
       " '31 rue de Croulebarbe, Paris, France',\n",
       " '180 rue de Tolbiac, Paris, France',\n",
       " '65 bd Saint Marcel, Paris, France',\n",
       " '88 bd de L Hopital, Paris, France',\n",
       " '5 rue Abel Hovelacque, Paris, France',\n",
       " '7 av Stephen Pichon, Paris, France',\n",
       " '33 rue Oudry, Paris, France',\n",
       " '18 rue Charcot, Paris, France',\n",
       " \"3 pl de L'Esc. Normandie Niemen, Paris, France\",\n",
       " '9 sq Albin Cachot, Paris, France',\n",
       " '5 rue Nicolas Roret, Paris, France',\n",
       " '45 rue Vandrezanne, Paris, France',\n",
       " '70 bd Arago, Paris, France',\n",
       " '176 rue Jeanne D Arc, Paris, France',\n",
       " '4 rue Wurtz, Paris, France',\n",
       " '130 rue Leon Maurice Nordmann, Paris, France',\n",
       " '43 rue Boussingault, Paris, France',\n",
       " '13 rue Saint Hippolyte, Paris, France',\n",
       " '24 rue de La Glaciere, Paris, France',\n",
       " '33 rue Pascal, Paris, France',\n",
       " '73 av de Choisy, Paris, France',\n",
       " '3 rue de La Butte Aux Cailles, Paris, France',\n",
       " '2 rue Rene Panhard, Paris, France',\n",
       " '36 rue Des Cinq Diamants, Paris, France',\n",
       " '39 rue Daviel, Paris, France',\n",
       " '39 rue du Moulinet, Paris, France',\n",
       " '90 av de Choisy, Paris, France',\n",
       " '8 rue de Reims, Paris, France',\n",
       " '29 rue Michal, Paris, France',\n",
       " '107 rue de La Glaciere, Paris, France',\n",
       " '54 rue de La Glaciere, Paris, France',\n",
       " '5 pl D Italie, Paris, France',\n",
       " '92 av D Italie, Paris, France',\n",
       " '8 rue Edmond Gondinet, Paris, France',\n",
       " '44 rue de Tolbiac, Paris, France',\n",
       " '51 rue de L Esperance, Paris, France',\n",
       " '19 rue Des Cinq Diamants, Paris, France',\n",
       " '58 rue Albert, Paris, France',\n",
       " '55 bd Saint Marcel, Paris, France',\n",
       " '45 av de Choisy, Paris, France',\n",
       " '71 bd Arago, Paris, France',\n",
       " '9 pl de Rungis, Paris, France',\n",
       " '20 rue Le Brun, Paris, France',\n",
       " '10 pl Paul Verlaine, Paris, France',\n",
       " '43 rue Vandrezanne, Paris, France',\n",
       " '70 rue Barrault, Paris, France',\n",
       " '109 av D Italie, Paris, France',\n",
       " '3 rue de Pouy, Paris, France',\n",
       " '113 bd de L Hopital, Paris, France',\n",
       " '7 rue Michel Peter, Paris, France',\n",
       " '20 bd Massena, Paris, France',\n",
       " '81 rue Pascal, Paris, France',\n",
       " '4 rue Corvisart, Paris, France',\n",
       " '69 rue Damesme, Paris, France',\n",
       " '28 rue Jean Colly, Paris, France',\n",
       " '64 rue du Chateau Des Rentiers, Paris, France',\n",
       " '3 rue Des Reculettes, Paris, France',\n",
       " '11 rue Charbonnel, Paris, France',\n",
       " '23 rue Oudry, Paris, France',\n",
       " '39 rue de La Glaciere, Paris, France',\n",
       " '100 rue Bobillot, Paris, France',\n",
       " '27 rue Charles Fourier, Paris, France',\n",
       " '26 rue Barrault, Paris, France',\n",
       " '64 rue de Patay, Paris, France',\n",
       " '46 rue Dunois, Paris, France',\n",
       " '32 rue de Tolbiac, Paris, France',\n",
       " '38 rue du Chateau Des Rentiers, Paris, France',\n",
       " '100 bd Massena, Paris, France',\n",
       " '89 rue Pascal, Paris, France',\n",
       " '46 rue Des Cinq Diamants, Paris, France',\n",
       " '64 rue de La Colonie, Paris, France',\n",
       " '31 bd Auguste Blanqui, Paris, France',\n",
       " '93 rue Pascal, Paris, France',\n",
       " '23 rue Saint Hippolyte, Paris, France',\n",
       " '11 rue Des Cinq Diamants, Paris, France',\n",
       " '5 rue de La Butte Aux Cailles, Paris, France',\n",
       " '6 rue Abel Hovelacque, Paris, France',\n",
       " '67 bd Saint Marcel, Paris, France',\n",
       " '21 rue du Dessous Des Berges, Paris, France',\n",
       " '33 rue du Moulinet, Paris, France',\n",
       " '36 rue Boussingault, Paris, France',\n",
       " '51 rue Boussingault, Paris, France',\n",
       " '98 rue de Tolbiac, Paris, France',\n",
       " '88 rue de La Colonie, Paris, France',\n",
       " '18 rue de Campo Formio, Paris, France',\n",
       " '6 sq de Port-Royal, Paris, France',\n",
       " '8 rue de Domremy, Paris, France',\n",
       " '10 rue du Chevaleret, Paris, France',\n",
       " '33 rue du Banquier, Paris, France',\n",
       " '49 bd Vincent Auriol, Paris, France',\n",
       " '151 av de Choisy, Paris, France',\n",
       " '84 rue Baudricourt, Paris, France',\n",
       " '3 rue Henri Pape, Paris, France',\n",
       " '97 rue de La Sante, Paris, France',\n",
       " '8 rue Primatice, Paris, France',\n",
       " '65 rue de L Amiral Mouchez, Paris, France',\n",
       " '108 rue de Patay, Paris, France',\n",
       " '11 rue de Reims, Paris, France',\n",
       " '92 rue Broca, Paris, France',\n",
       " '152 rue Leon Maurice Nordmann, Paris, France',\n",
       " '23 rue Dunois, Paris, France',\n",
       " '33 rue Des Terres Au Cure, Paris, France',\n",
       " '20 rue Le Dantec, Paris, France',\n",
       " '15 rue Des Gobelins, Paris, France',\n",
       " '12 rue du Moulin de La Pointe, Paris, France',\n",
       " '16 rue Des Gobelins, Paris, France',\n",
       " '4 rue Germaine Krull, Paris, France',\n",
       " '86 rue Nationale, Paris, France',\n",
       " '132 bd de L Hopital, Paris, France',\n",
       " '103 rue de La Glaciere, Paris, France',\n",
       " '56 rue de Patay, Paris, France',\n",
       " '69 rue Barrault, Paris, France',\n",
       " '90 bd Kellermann, Paris, France',\n",
       " '2 rue Cacheux, Paris, France',\n",
       " '90 av D Italie, Paris, France',\n",
       " '8 rue de La Maison Blanche, Paris, France',\n",
       " '7 sq Albin Cachot, Paris, France',\n",
       " '14 rue Caillaux, Paris, France',\n",
       " '2 rue Jules Breton, Paris, France',\n",
       " '24 rue Boussingault, Paris, France',\n",
       " '7 rue Vulpian, Paris, France',\n",
       " '7 rue Aumont, Paris, France',\n",
       " '178 rue Jeanne D Arc, Paris, France',\n",
       " '4 rue Des Deux Avenues, Paris, France',\n",
       " '111 rue du Chevaleret, Paris, France',\n",
       " '10 rue Martin Bernard, Paris, France',\n",
       " '28 rue Corvisart, Paris, France',\n",
       " '90 rue du Dessous Des Berges, Paris, France',\n",
       " '12 rue Pinel, Paris, France',\n",
       " '31 bd de Port-Royal, Paris, France',\n",
       " '18 rue Coypel, Paris, France',\n",
       " '23 rue Des Cordelieres, Paris, France',\n",
       " '202 rue de Tolbiac, Paris, France',\n",
       " '25 av Des Gobelins, Paris, France',\n",
       " '33 av de Choisy, Paris, France',\n",
       " '8 rue Michel Peter, Paris, France',\n",
       " '4 rue Des Tanneries, Paris, France',\n",
       " '19 rue du Tage, Paris, France',\n",
       " '125 rue de Tolbiac, Paris, France',\n",
       " '16 rue Martin Bernard, Paris, France',\n",
       " '18 rue du Banquier, Paris, France',\n",
       " '5 rue Ponscarme, Paris, France',\n",
       " '11 rue Charles Fourier, Paris, France',\n",
       " '26 rue Dumeril, Paris, France',\n",
       " '51 rue de La Glaciere, Paris, France',\n",
       " '20 pas Foubert, Paris, France',\n",
       " '23 rue du Dessous Des Berges, Paris, France',\n",
       " '70 rue Albert, Paris, France',\n",
       " '18 rue Martin Bernard, Paris, France',\n",
       " '1 rue de La Maison Blanche, Paris, France',\n",
       " '69 rue de Tolbiac, Paris, France',\n",
       " '79 rue Broca, Paris, France',\n",
       " '3 rue Vergniaud, Paris, France',\n",
       " '154 bd Massena, Paris, France',\n",
       " '7 pl Pinel, Paris, France',\n",
       " '57 rue Cantagrel, Paris, France',\n",
       " '19 rue Gandon, Paris, France',\n",
       " '2 rue Xaintrailles, Paris, France',\n",
       " '11 rue Alphand, Paris, France',\n",
       " '7 rue Nicolas Roret, Paris, France',\n",
       " '5 rue D Italie, Paris, France',\n",
       " '23 rue Bourgon, Paris, France',\n",
       " '3 rue du Dessous Des Berges, Paris, France',\n",
       " '8 rue de La Reine Blanche, Paris, France',\n",
       " '8 bd Auguste Blanqui, Paris, France',\n",
       " '53 rue Bobillot, Paris, France',\n",
       " '31 bd Arago, Paris, France',\n",
       " '6 rue Charles Moureu, Paris, France',\n",
       " '14 pl de Rungis, Paris, France',\n",
       " '111 rue du Dessous Des Berges, Paris, France',\n",
       " '5 rue Henri Pape, Paris, France',\n",
       " '99 rue de La Glaciere, Paris, France',\n",
       " '173 rue de Tolbiac, Paris, France',\n",
       " '5 rue du Jura, Paris, France',\n",
       " '52 av Des Gobelins, Paris, France',\n",
       " '81 av D Italie, Paris, France',\n",
       " '21 rue Rene Goscinny, Paris, France',\n",
       " '86 rue du Dessous Des Berges, Paris, France',\n",
       " '79 rue de Patay, Paris, France',\n",
       " '27 rue de Croulebarbe, Paris, France',\n",
       " '9 pl de L Abbe Georges Henocque, Paris, France',\n",
       " '34 rue Des Cinq Diamants, Paris, France',\n",
       " '11 rue de La Vistule, Paris, France',\n",
       " '10 rue Fulton, Paris, France',\n",
       " '53 rue du Moulin Des Pres, Paris, France',\n",
       " '16 rue Des Reculettes, Paris, France',\n",
       " '44 rue Vergniaud, Paris, France',\n",
       " '29 rue Albert, Paris, France',\n",
       " '50 rue Vergniaud, Paris, France',\n",
       " '45 rue Barrault, Paris, France',\n",
       " '34 rue Boussingault, Paris, France',\n",
       " '121 rue de La Sante, Paris, France',\n",
       " '228 rue de Tolbiac, Paris, France',\n",
       " '127 bd Auguste Blanqui, Paris, France',\n",
       " '6 rue du Champ de L Alouette, Paris, France',\n",
       " '70 rue Bobillot, Paris, France',\n",
       " '52 rue Damesme, Paris, France',\n",
       " '11 rue Jeanne Chauvin, Paris, France',\n",
       " '83 bd Saint Marcel, Paris, France',\n",
       " '16 rue Philibert Lucot, Paris, France',\n",
       " '62 bd de L Hopital, Paris, France',\n",
       " '15 rue Jean Colly, Paris, France',\n",
       " '47 rue Pascal, Paris, France',\n",
       " '34 rue de Domremy, Paris, France',\n",
       " '62 rue de Patay, Paris, France',\n",
       " '57 rue du Dessous Des Berges, Paris, France',\n",
       " '4 rue Simonet, Paris, France',\n",
       " '3 rue Fagon, Paris, France',\n",
       " '10 rue Rubens, Paris, France',\n",
       " '60 rue Baudricourt, Paris, France',\n",
       " '121 av D Ivry, Paris, France',\n",
       " '11 rue de La Reine Blanche, Paris, France',\n",
       " '5 rue Charles Fourier, Paris, France',\n",
       " '11 rue Esquirol, Paris, France',\n",
       " '5 rue de L Amiral Mouchez, Paris, France',\n",
       " '5 rue Wurtz, Paris, France',\n",
       " '86 rue Brillat Savarin, Paris, France',\n",
       " '107 rue de Patay, Paris, France',\n",
       " '4 bd Arago, Paris, France',\n",
       " '8 rue Charles Moureu, Paris, France',\n",
       " '91 rue de La Sante, Paris, France',\n",
       " '1 rue Veronese, Paris, France',\n",
       " '37 rue du Banquier, Paris, France',\n",
       " '2 imp Nationale, Paris, France',\n",
       " '32 rue de L Esperance, Paris, France',\n",
       " '98 rue Brillat Savarin, Paris, France',\n",
       " '31 rue Esquirol, Paris, France',\n",
       " '151 rue de Tolbiac, Paris, France',\n",
       " '4 rue de La Providence, Paris, France',\n",
       " '10 rue Toussaint Feron, Paris, France',\n",
       " '7 sq de Port-Royal, Paris, France',\n",
       " '35 rue Des Terres Au Cure, Paris, France',\n",
       " '21 rue du Pere Guerin, Paris, France',\n",
       " '195 rue de Tolbiac, Paris, France',\n",
       " '43 av D Italie, Paris, France',\n",
       " '198 rue de Tolbiac, Paris, France',\n",
       " '142 rue de Tolbiac, Paris, France',\n",
       " '56 rue Corvisart, Paris, France',\n",
       " '10 rue Coypel, Paris, France',\n",
       " '89 rue du Dessous Des Berges, Paris, France',\n",
       " '5 rue Fagon, Paris, France',\n",
       " '9 rue Fagon, Paris, France',\n",
       " '8 rue Le Dantec, Paris, France',\n",
       " '15 rue de Tolbiac, Paris, France',\n",
       " '146 rue du Chevaleret, Paris, France',\n",
       " '69 rue Pascal, Paris, France',\n",
       " '8 rue Vulpian, Paris, France',\n",
       " '36 rue Damesme, Paris, France',\n",
       " '13 rue de La Butte Aux Cailles, Paris, France',\n",
       " '58 rue Regnault, Paris, France',\n",
       " '35 av Des Gobelins, Paris, France',\n",
       " '3 rue Clisson, Paris, France',\n",
       " '5 rue de L Esperance, Paris, France',\n",
       " '23 rue Caillaux, Paris, France',\n",
       " '185 av de Choisy, Paris, France',\n",
       " '5 vla Deloder, Paris, France',\n",
       " '14 rue du Moulin Des Pres, Paris, France',\n",
       " '53 rue du Moulin de La Pointe, Paris, France',\n",
       " '118 rue Jeanne D Arc, Paris, France',\n",
       " '54 av de Choisy, Paris, France',\n",
       " '9 vla D Este, Paris, France',\n",
       " '15 bd Auguste Blanqui, Paris, France',\n",
       " '1 quai D Austerlitz, Paris, France',\n",
       " '76 av Des Gobelins, Paris, France',\n",
       " '19 rue du Banquier, Paris, France',\n",
       " '3 av de Choisy, Paris, France',\n",
       " '5 bd Arago, Paris, France',\n",
       " '147 bd Auguste Blanqui, Paris, France',\n",
       " '77 rue de Patay, Paris, France',\n",
       " '102 rue Nationale, Paris, France',\n",
       " '44 rue Dunois, Paris, France',\n",
       " '41 rue Clisson, Paris, France',\n",
       " '7 rue Baudoin, Paris, France',\n",
       " '10 rue Philibert Lucot, Paris, France',\n",
       " '41 av Des Gobelins, Paris, France',\n",
       " '24 rue Des Terres Au Cure, Paris, France',\n",
       " '7 rue Edouard Manet, Paris, France',\n",
       " '35 rue de La Butte Aux Cailles, Paris, France',\n",
       " '3 rue Edmond Gondinet, Paris, France',\n",
       " '62 av Des Gobelins, Paris, France',\n",
       " '178 rue du Chateau Des Rentiers, Paris, France',\n",
       " '180 rue du Chateau Des Rentiers, Paris, France',\n",
       " '182 rue du Chateau Des Rentiers, Paris, France',\n",
       " '61 rue de La Glaciere, Paris, France',\n",
       " '7 rue Vergniaud, Paris, France',\n",
       " '60 rue Albert, Paris, France',\n",
       " '2 sq Arago, Paris, France',\n",
       " '82 rue Vergniaud, Paris, France',\n",
       " '160 av D Italie, Paris, France',\n",
       " '28 rue Bobillot, Paris, France',\n",
       " '41 rue Vandrezanne, Paris, France',\n",
       " '45 rue de L Esperance, Paris, France',\n",
       " '68 rue de Patay, Paris, France',\n",
       " '11 rue du Jura, Paris, France',\n",
       " '6 rue Damesme, Paris, France',\n",
       " '113 rue Bobillot, Paris, France',\n",
       " '33 rue Dunois, Paris, France',\n",
       " '26 rue Jean Colly, Paris, France',\n",
       " '26 rue du Pere Guerin, Paris, France',\n",
       " '41 rue Esquirol, Paris, France',\n",
       " '22 rue Boussingault, Paris, France',\n",
       " '185 bd Vincent Auriol, Paris, France',\n",
       " '3 rue Des Frigos, Paris, France',\n",
       " '144 bd Vincent Auriol, Paris, France',\n",
       " '4 rue de La Butte Aux Cailles, Paris, France',\n",
       " '58 rue Jeanne D Arc, Paris, France',\n",
       " '5 rue Philibert Lucot, Paris, France',\n",
       " '96 rue Bobillot, Paris, France',\n",
       " '28 rue de Tolbiac, Paris, France',\n",
       " '147 rue de Tolbiac, Paris, France',\n",
       " '6 rue Primatice, Paris, France',\n",
       " '29 rue Caillaux, Paris, France',\n",
       " '5 rue de La Colonie, Paris, France',\n",
       " '28 av Des Gobelins, Paris, France',\n",
       " '124 bd Vincent Auriol, Paris, France',\n",
       " '19 rue Bellier Dedouvre, Paris, France',\n",
       " '7 rue Le Brun, Paris, France',\n",
       " '17 rue Esquirol, Paris, France',\n",
       " '6 rue Wurtz, Paris, France',\n",
       " '7 pl de Rungis, Paris, France',\n",
       " '14 rue Bellier Dedouvre, Paris, France',\n",
       " '8 rue Des Wallons, Paris, France',\n",
       " '137 av de Choisy, Paris, France',\n",
       " '11 bd Saint Marcel, Paris, France',\n",
       " '89 rue Albert, Paris, France',\n",
       " '41 bd Arago, Paris, France',\n",
       " '38 rue Le Brun, Paris, France',\n",
       " '22 rue de Croulebarbe, Paris, France',\n",
       " '5 rue Primo Levi, Paris, France',\n",
       " '99 bd de L Hopital, Paris, France',\n",
       " '22 rue Des Orchidees, Paris, France',\n",
       " '63 bd Saint Marcel, Paris, France',\n",
       " '31 pl Jeanne D Arc, Paris, France',\n",
       " '20 rue de Campo Formio, Paris, France',\n",
       " '34 rue Brillat Savarin, Paris, France',\n",
       " '8 pl Paul Verlaine, Paris, France',\n",
       " '7 bd Auguste Blanqui, Paris, France',\n",
       " '53 rue de Patay, Paris, France',\n",
       " '101 bd de L Hopital, Paris, France',\n",
       " '3 rue Primo Levi, Paris, France',\n",
       " '32 rue de La Glaciere, Paris, France',\n",
       " '100 rue du Moulin Des Pres, Paris, France',\n",
       " '14 rue Des Wallons, Paris, France',\n",
       " '45 bd Arago, Paris, France',\n",
       " '71 av de Choisy, Paris, France',\n",
       " '23 rue Des Malmaisons, Paris, France',\n",
       " '21 rue Des Malmaisons, Paris, France',\n",
       " '20 rue Des Malmaisons, Paris, France',\n",
       " '52 av D Italie, Paris, France',\n",
       " '19 rue Le Brun, Paris, France',\n",
       " '14 rue Pirandello, Paris, France',\n",
       " '10 sq de Port-Royal, Paris, France',\n",
       " '39 bd Arago, Paris, France',\n",
       " '113 rue de Patay, Paris, France',\n",
       " '24 rue Alphand, Paris, France',\n",
       " '98 rue Bobillot, Paris, France',\n",
       " '4 rue Charles Moureu, Paris, France',\n",
       " '4 rue Jonas, Paris, France',\n",
       " '60 av Des Gobelins, Paris, France',\n",
       " '57 rue de La Colonie, Paris, France',\n",
       " '154 rue de Tolbiac, Paris, France',\n",
       " '9 rue du Banquier, Paris, France',\n",
       " '24 rue du Moulinet, Paris, France',\n",
       " '28 rue Albert, Paris, France',\n",
       " '5 av de La Soeur Rosalie, Paris, France',\n",
       " '10 rue Pinel, Paris, France',\n",
       " '92 rue du Dessous Des Berges, Paris, France',\n",
       " '14 rue Le Brun, Paris, France',\n",
       " '40 rue Damesme, Paris, France',\n",
       " '17 rue Bellier Dedouvre, Paris, France',\n",
       " '24 rue Guyton de Morveau, Paris, France',\n",
       " '10 rue de Pouy, Paris, France',\n",
       " '62 rue Albert, Paris, France',\n",
       " '225 rue de Tolbiac, Paris, France',\n",
       " '30 rue Gandon, Paris, France',\n",
       " '129 av de Choisy, Paris, France',\n",
       " '2 sq de Port-Royal, Paris, France',\n",
       " '24 bd Massena, Paris, France',\n",
       " '85 rue Pascal, Paris, France',\n",
       " '88 rue du Dessous Des Berges, Paris, France',\n",
       " '28 rue de La Reine Blanche, Paris, France',\n",
       " '5 rue de Domremy, Paris, France',\n",
       " '156 rue de Tolbiac, Paris, France',\n",
       " '45 rue de Croulebarbe, Paris, France',\n",
       " '14 rue Vergniaud, Paris, France',\n",
       " '45 rue Nationale, Paris, France',\n",
       " '14 rue Oudry, Paris, France',\n",
       " '22 rue du Moulin Des Pres, Paris, France',\n",
       " '17 av Stephen Pichon, Paris, France',\n",
       " '72 bd de L Hopital, Paris, France',\n",
       " '70 rue de Tolbiac, Paris, France',\n",
       " '11 rue Albert, Paris, France',\n",
       " '63 rue Pascal, Paris, France',\n",
       " '5 rue du Banquier, Paris, France',\n",
       " '68 av D Italie, Paris, France',\n",
       " '153 rue du Chevaleret, Paris, France',\n",
       " '1 rue Xaintrailles, Paris, France',\n",
       " '107 rue Bobillot, Paris, France',\n",
       " '17 rue du Moulin Des Pres, Paris, France',\n",
       " '102 rue de La Glaciere, Paris, France',\n",
       " '20 rue Des Gobelins, Paris, France',\n",
       " '26 bd Arago, Paris, France',\n",
       " '148 bd Massena, Paris, France',\n",
       " '35 rue Esquirol, Paris, France',\n",
       " '77 rue Brillat Savarin, Paris, France',\n",
       " '27 rue Vergniaud, Paris, France',\n",
       " '29 rue de L Esperance, Paris, France',\n",
       " '16 rue Alphand, Paris, France',\n",
       " '14 rue du Docteur Leray, Paris, France',\n",
       " '13 rue Edouard Manet, Paris, France',\n",
       " '23 rue du Moulin Des Pres, Paris, France',\n",
       " '53 rue Jenner, Paris, France',\n",
       " '3 vla Des Gobelins, Paris, France',\n",
       " '7 rue Charles Fourier, Paris, France',\n",
       " '1 rue du Docteur Bourneville, Paris, France',\n",
       " '19 rue Berbier du Mets, Paris, France',\n",
       " '19 rue du Pere Guerin, Paris, France',\n",
       " '26 rue Le Brun, Paris, France',\n",
       " '68 av Des Gobelins, Paris, France',\n",
       " '45 rue de Tolbiac, Paris, France',\n",
       " '111 av D Ivry, Paris, France',\n",
       " '4 rue Des Wallons, Paris, France',\n",
       " '18 rue de La Providence, Paris, France',\n",
       " '40 rue du Chateau Des Rentiers, Paris, France',\n",
       " '100 bd de L Hopital, Paris, France',\n",
       " '9 rue Des Tanneries, Paris, France',\n",
       " '33 rue Bobillot, Paris, France',\n",
       " '213 av de Choisy, Paris, France',\n",
       " '6 rue Des Wallons, Paris, France',\n",
       " '36 rue Le Brun, Paris, France',\n",
       " '75 rue de Patay, Paris, France',\n",
       " '6 vla Des Gobelins, Paris, France',\n",
       " '84 rue de La Colonie, Paris, France',\n",
       " '36 av de Choisy, Paris, France',\n",
       " '85 bd de Port-Royal, Paris, France',\n",
       " '25 rue Gandon, Paris, France',\n",
       " '28 rue Wurtz, Paris, France',\n",
       " '56 rue de Domremy, Paris, France',\n",
       " '209 rue de Tolbiac, Paris, France',\n",
       " '24 rue de Campo Formio, Paris, France',\n",
       " '21 rue Des Tanneries, Paris, France',\n",
       " '16 rue Guyton de Morveau, Paris, France',\n",
       " '35 rue Pascal, Paris, France',\n",
       " '2 rue Coypel, Paris, France',\n",
       " '36 bd Arago, Paris, France',\n",
       " '14 rue Des Tanneries, Paris, France',\n",
       " '90 av D Ivry, Paris, France',\n",
       " '8 rue Martin Bernard, Paris, France',\n",
       " '3 rue de La Sante, Paris, France',\n",
       " '91 bd de Port-Royal, Paris, France',\n",
       " '12 sq de Port-Royal, Paris, France',\n",
       " '13 rue Nationale, Paris, France',\n",
       " '86 rue de Patay, Paris, France',\n",
       " '7 av de La Soeur Rosalie, Paris, France',\n",
       " '8 rue de L Industrie, Paris, France',\n",
       " '3 pas Foubert, Paris, France',\n",
       " '242 rue de Tolbiac, Paris, France',\n",
       " '133 av D Italie, Paris, France',\n",
       " '19 rue Guyton de Morveau, Paris, France',\n",
       " '24 bd Arago, Paris, France',\n",
       " '15 pl Souham, Paris, France',\n",
       " ...]"
      ]
     },
     "execution_count": 40,
     "metadata": {},
     "output_type": "execute_result"
    }
   ],
   "source": [
    "liste_adresse = df_paris['Adresse'].tolist()\n",
    "liste_adresse"
   ]
  },
  {
   "cell_type": "code",
   "execution_count": null,
   "id": "74611fa8",
   "metadata": {},
   "outputs": [],
   "source": [
    "adresse = input(\"Entrez votre adresse: \")\n",
    "if adresse in df_paris[\"Adresse\"].values:\n",
    "    adresse1 = adresse\n",
    "adresse1"
   ]
  },
  {
   "cell_type": "code",
   "execution_count": 123,
   "id": "f15d9845",
   "metadata": {},
   "outputs": [
    {
     "name": "stdout",
     "output_type": "stream",
     "text": [
      "(48.8382616, 2.3579991)\n"
     ]
    }
   ],
   "source": [
    "geolocator = Nominatim(user_agent=\"my_app\")\n",
    "location = geolocator.geocode(adresse1)\n",
    "PointGPS = (location.latitude, location.longitude)\n",
    "PointGPS\n"
   ]
  },
  {
   "cell_type": "code",
   "execution_count": 41,
   "id": "d5687e0c",
   "metadata": {},
   "outputs": [
    {
     "name": "stdout",
     "output_type": "stream",
     "text": [
      "Requirement already satisfied: geopy in c:\\users\\bync\\anaconda3\\lib\\site-packages (2.3.0)\n",
      "Requirement already satisfied: geographiclib<3,>=1.52 in c:\\users\\bync\\anaconda3\\lib\\site-packages (from geopy) (2.0)\n"
     ]
    }
   ],
   "source": [
    "!pip install geopy"
   ]
  },
  {
   "cell_type": "code",
   "execution_count": 42,
   "id": "6022fccc",
   "metadata": {},
   "outputs": [],
   "source": [
    "from geopy.geocoders import Nominatim\n",
    "\n"
   ]
  },
  {
   "cell_type": "code",
   "execution_count": null,
   "id": "69de670e",
   "metadata": {},
   "outputs": [],
   "source": []
  },
  {
   "cell_type": "code",
   "execution_count": null,
   "id": "0763df2c",
   "metadata": {},
   "outputs": [],
   "source": []
  },
  {
   "cell_type": "code",
   "execution_count": null,
   "id": "4e0409dd",
   "metadata": {},
   "outputs": [],
   "source": []
  },
  {
   "cell_type": "code",
   "execution_count": null,
   "id": "8aec468b",
   "metadata": {},
   "outputs": [],
   "source": []
  },
  {
   "cell_type": "code",
   "execution_count": null,
   "id": "17de5009",
   "metadata": {},
   "outputs": [],
   "source": []
  },
  {
   "cell_type": "code",
   "execution_count": null,
   "id": "6baff7ac",
   "metadata": {},
   "outputs": [],
   "source": []
  },
  {
   "cell_type": "markdown",
   "id": "62301379",
   "metadata": {},
   "source": [
    "# Manipulations des données sur les sations de métros"
   ]
  },
  {
   "cell_type": "code",
   "execution_count": 6,
   "id": "044f8597",
   "metadata": {},
   "outputs": [
    {
     "name": "stdout",
     "output_type": "stream",
     "text": [
      "<class 'pandas.core.frame.DataFrame'>\n",
      "RangeIndex: 954 entries, 0 to 953\n",
      "Data columns (total 32 columns):\n",
      " #   Column      Non-Null Count  Dtype  \n",
      "---  ------      --------------  -----  \n",
      " 0   Geo Point   954 non-null    object \n",
      " 1   Geo Shape   954 non-null    object \n",
      " 2   codeunique  954 non-null    float64\n",
      " 3   nom_long    954 non-null    object \n",
      " 4   label       954 non-null    object \n",
      " 5   id_ref_ZdC  954 non-null    float64\n",
      " 6   nom_ZdC     954 non-null    object \n",
      " 7   id_ref_ZdA  954 non-null    float64\n",
      " 8   nom_ZdA     954 non-null    object \n",
      " 9   idrefliga   954 non-null    object \n",
      " 10  idrefligc   954 non-null    object \n",
      " 11  res_com     954 non-null    object \n",
      " 12  mode        954 non-null    object \n",
      " 13  fer         954 non-null    float64\n",
      " 14  train       953 non-null    float64\n",
      " 15  rer         953 non-null    float64\n",
      " 16  metro       953 non-null    float64\n",
      " 17  tramway     953 non-null    float64\n",
      " 18  navette     953 non-null    float64\n",
      " 19  val         953 non-null    float64\n",
      " 20  terfer      954 non-null    int64  \n",
      " 21  tertrain    954 non-null    int64  \n",
      " 22  terrer      954 non-null    object \n",
      " 23  termetro    954 non-null    object \n",
      " 24  tertram     954 non-null    object \n",
      " 25  ternavette  954 non-null    int64  \n",
      " 26  terval      954 non-null    int64  \n",
      " 27  exploitant  954 non-null    object \n",
      " 28  principal   954 non-null    float64\n",
      " 29  idf         954 non-null    float64\n",
      " 30  x           954 non-null    float64\n",
      " 31  y           954 non-null    float64\n",
      "dtypes: float64(14), int64(4), object(14)\n",
      "memory usage: 238.6+ KB\n"
     ]
    }
   ],
   "source": [
    "data.info()"
   ]
  },
  {
   "cell_type": "code",
   "execution_count": null,
   "id": "a0e56907",
   "metadata": {},
   "outputs": [],
   "source": [
    "#on supprime les données de RER, TRAMWAY\n",
    "data = data[data['mode'] == 'METRO']"
   ]
  },
  {
   "cell_type": "code",
   "execution_count": null,
   "id": "56c801fd",
   "metadata": {},
   "outputs": [],
   "source": [
    "#on supprime les colonnes inutiles\n",
    "data = data.drop(columns=[col for col in data.columns if col not in ['Geo Point', 'label']])"
   ]
  },
  {
   "cell_type": "code",
   "execution_count": null,
   "id": "4b8fc508",
   "metadata": {},
   "outputs": [],
   "source": [
    "#on crée une nouvelle colonne \"coordonnees\" contenant des tuples de coordonnées\n",
    "data['coordonnees'] = data['Geo Point'].apply(lambda x: tuple(map(float, x.split(','))))"
   ]
  },
  {
   "cell_type": "code",
   "execution_count": 99,
   "id": "9a5fa7d6",
   "metadata": {},
   "outputs": [
    {
     "name": "stdout",
     "output_type": "stream",
     "text": [
      "(48.8238957, 2.3485899)\n"
     ]
    }
   ],
   "source": [
    "#Vérifions ce que l'on obtiens\n",
    "data['coordonnees']"
   ]
  },
  {
   "cell_type": "markdown",
   "id": "269089f8",
   "metadata": {},
   "source": [
    "# Les données sur une carte de Paris"
   ]
  },
  {
   "cell_type": "code",
   "execution_count": 7,
   "id": "e5cd0131",
   "metadata": {},
   "outputs": [
    {
     "name": "stdout",
     "output_type": "stream",
     "text": [
      "Requirement already satisfied: folium in c:\\users\\bync\\anaconda3\\lib\\site-packages (0.14.0)\n",
      "Requirement already satisfied: numpy in c:\\users\\bync\\anaconda3\\lib\\site-packages (from folium) (1.21.5)\n",
      "Requirement already satisfied: jinja2>=2.9 in c:\\users\\bync\\anaconda3\\lib\\site-packages (from folium) (2.11.3)\n",
      "Requirement already satisfied: branca>=0.6.0 in c:\\users\\bync\\anaconda3\\lib\\site-packages (from folium) (0.6.0)\n",
      "Requirement already satisfied: requests in c:\\users\\bync\\anaconda3\\lib\\site-packages (from folium) (2.28.1)\n",
      "Requirement already satisfied: MarkupSafe>=0.23 in c:\\users\\bync\\anaconda3\\lib\\site-packages (from jinja2>=2.9->folium) (2.0.1)\n",
      "Requirement already satisfied: charset-normalizer<3,>=2 in c:\\users\\bync\\anaconda3\\lib\\site-packages (from requests->folium) (2.0.4)\n",
      "Requirement already satisfied: urllib3<1.27,>=1.21.1 in c:\\users\\bync\\anaconda3\\lib\\site-packages (from requests->folium) (1.26.11)\n",
      "Requirement already satisfied: idna<4,>=2.5 in c:\\users\\bync\\anaconda3\\lib\\site-packages (from requests->folium) (3.3)\n",
      "Requirement already satisfied: certifi>=2017.4.17 in c:\\users\\bync\\anaconda3\\lib\\site-packages (from requests->folium) (2022.9.14)\n",
      "Note: you may need to restart the kernel to use updated packages.\n"
     ]
    }
   ],
   "source": [
    "pip install folium"
   ]
  },
  {
   "cell_type": "code",
   "execution_count": 19,
   "id": "1161ff68",
   "metadata": {},
   "outputs": [
    {
     "ename": "KeyError",
     "evalue": "'coordonnees'",
     "output_type": "error",
     "traceback": [
      "\u001b[1;31m---------------------------------------------------------------------------\u001b[0m",
      "\u001b[1;31mKeyError\u001b[0m                                  Traceback (most recent call last)",
      "\u001b[1;32m~\\anaconda3\\lib\\site-packages\\pandas\\core\\indexes\\base.py\u001b[0m in \u001b[0;36mget_loc\u001b[1;34m(self, key, method, tolerance)\u001b[0m\n\u001b[0;32m   3628\u001b[0m             \u001b[1;32mtry\u001b[0m\u001b[1;33m:\u001b[0m\u001b[1;33m\u001b[0m\u001b[1;33m\u001b[0m\u001b[0m\n\u001b[1;32m-> 3629\u001b[1;33m                 \u001b[1;32mreturn\u001b[0m \u001b[0mself\u001b[0m\u001b[1;33m.\u001b[0m\u001b[0m_engine\u001b[0m\u001b[1;33m.\u001b[0m\u001b[0mget_loc\u001b[0m\u001b[1;33m(\u001b[0m\u001b[0mcasted_key\u001b[0m\u001b[1;33m)\u001b[0m\u001b[1;33m\u001b[0m\u001b[1;33m\u001b[0m\u001b[0m\n\u001b[0m\u001b[0;32m   3630\u001b[0m             \u001b[1;32mexcept\u001b[0m \u001b[0mKeyError\u001b[0m \u001b[1;32mas\u001b[0m \u001b[0merr\u001b[0m\u001b[1;33m:\u001b[0m\u001b[1;33m\u001b[0m\u001b[1;33m\u001b[0m\u001b[0m\n",
      "\u001b[1;32m~\\anaconda3\\lib\\site-packages\\pandas\\_libs\\index.pyx\u001b[0m in \u001b[0;36mpandas._libs.index.IndexEngine.get_loc\u001b[1;34m()\u001b[0m\n",
      "\u001b[1;32m~\\anaconda3\\lib\\site-packages\\pandas\\_libs\\index.pyx\u001b[0m in \u001b[0;36mpandas._libs.index.IndexEngine.get_loc\u001b[1;34m()\u001b[0m\n",
      "\u001b[1;32mpandas\\_libs\\hashtable_class_helper.pxi\u001b[0m in \u001b[0;36mpandas._libs.hashtable.PyObjectHashTable.get_item\u001b[1;34m()\u001b[0m\n",
      "\u001b[1;32mpandas\\_libs\\hashtable_class_helper.pxi\u001b[0m in \u001b[0;36mpandas._libs.hashtable.PyObjectHashTable.get_item\u001b[1;34m()\u001b[0m\n",
      "\u001b[1;31mKeyError\u001b[0m: 'coordonnees'",
      "\nThe above exception was the direct cause of the following exception:\n",
      "\u001b[1;31mKeyError\u001b[0m                                  Traceback (most recent call last)",
      "\u001b[1;32m~\\AppData\\Local\\Temp\\ipykernel_4516\\1612222626.py\u001b[0m in \u001b[0;36m<module>\u001b[1;34m\u001b[0m\n\u001b[0;32m      5\u001b[0m \u001b[1;33m\u001b[0m\u001b[0m\n\u001b[0;32m      6\u001b[0m \u001b[1;32mfor\u001b[0m \u001b[0mindex\u001b[0m\u001b[1;33m,\u001b[0m \u001b[0mrow\u001b[0m \u001b[1;32min\u001b[0m \u001b[0mdata\u001b[0m\u001b[1;33m.\u001b[0m\u001b[0miterrows\u001b[0m\u001b[1;33m(\u001b[0m\u001b[1;33m)\u001b[0m\u001b[1;33m:\u001b[0m\u001b[1;33m\u001b[0m\u001b[1;33m\u001b[0m\u001b[0m\n\u001b[1;32m----> 7\u001b[1;33m     \u001b[0mfolium\u001b[0m\u001b[1;33m.\u001b[0m\u001b[0mMarker\u001b[0m\u001b[1;33m(\u001b[0m\u001b[0mlocation\u001b[0m\u001b[1;33m=\u001b[0m\u001b[0mrow\u001b[0m\u001b[1;33m[\u001b[0m\u001b[1;34m'coordonnees'\u001b[0m\u001b[1;33m]\u001b[0m\u001b[1;33m,\u001b[0m \u001b[0mpopup\u001b[0m\u001b[1;33m=\u001b[0m\u001b[0mrow\u001b[0m\u001b[1;33m[\u001b[0m\u001b[1;34m'label'\u001b[0m\u001b[1;33m]\u001b[0m\u001b[1;33m)\u001b[0m\u001b[1;33m.\u001b[0m\u001b[0madd_to\u001b[0m\u001b[1;33m(\u001b[0m\u001b[0mm\u001b[0m\u001b[1;33m)\u001b[0m\u001b[1;33m\u001b[0m\u001b[1;33m\u001b[0m\u001b[0m\n\u001b[0m\u001b[0;32m      8\u001b[0m \u001b[1;33m\u001b[0m\u001b[0m\n\u001b[0;32m      9\u001b[0m \u001b[1;31m#affichage de la carte\u001b[0m\u001b[1;33m\u001b[0m\u001b[1;33m\u001b[0m\u001b[0m\n",
      "\u001b[1;32m~\\anaconda3\\lib\\site-packages\\pandas\\core\\series.py\u001b[0m in \u001b[0;36m__getitem__\u001b[1;34m(self, key)\u001b[0m\n\u001b[0;32m    956\u001b[0m \u001b[1;33m\u001b[0m\u001b[0m\n\u001b[0;32m    957\u001b[0m         \u001b[1;32melif\u001b[0m \u001b[0mkey_is_scalar\u001b[0m\u001b[1;33m:\u001b[0m\u001b[1;33m\u001b[0m\u001b[1;33m\u001b[0m\u001b[0m\n\u001b[1;32m--> 958\u001b[1;33m             \u001b[1;32mreturn\u001b[0m \u001b[0mself\u001b[0m\u001b[1;33m.\u001b[0m\u001b[0m_get_value\u001b[0m\u001b[1;33m(\u001b[0m\u001b[0mkey\u001b[0m\u001b[1;33m)\u001b[0m\u001b[1;33m\u001b[0m\u001b[1;33m\u001b[0m\u001b[0m\n\u001b[0m\u001b[0;32m    959\u001b[0m \u001b[1;33m\u001b[0m\u001b[0m\n\u001b[0;32m    960\u001b[0m         \u001b[1;32mif\u001b[0m \u001b[0mis_hashable\u001b[0m\u001b[1;33m(\u001b[0m\u001b[0mkey\u001b[0m\u001b[1;33m)\u001b[0m\u001b[1;33m:\u001b[0m\u001b[1;33m\u001b[0m\u001b[1;33m\u001b[0m\u001b[0m\n",
      "\u001b[1;32m~\\anaconda3\\lib\\site-packages\\pandas\\core\\series.py\u001b[0m in \u001b[0;36m_get_value\u001b[1;34m(self, label, takeable)\u001b[0m\n\u001b[0;32m   1067\u001b[0m \u001b[1;33m\u001b[0m\u001b[0m\n\u001b[0;32m   1068\u001b[0m         \u001b[1;31m# Similar to Index.get_value, but we do not fall back to positional\u001b[0m\u001b[1;33m\u001b[0m\u001b[1;33m\u001b[0m\u001b[0m\n\u001b[1;32m-> 1069\u001b[1;33m         \u001b[0mloc\u001b[0m \u001b[1;33m=\u001b[0m \u001b[0mself\u001b[0m\u001b[1;33m.\u001b[0m\u001b[0mindex\u001b[0m\u001b[1;33m.\u001b[0m\u001b[0mget_loc\u001b[0m\u001b[1;33m(\u001b[0m\u001b[0mlabel\u001b[0m\u001b[1;33m)\u001b[0m\u001b[1;33m\u001b[0m\u001b[1;33m\u001b[0m\u001b[0m\n\u001b[0m\u001b[0;32m   1070\u001b[0m         \u001b[1;32mreturn\u001b[0m \u001b[0mself\u001b[0m\u001b[1;33m.\u001b[0m\u001b[0mindex\u001b[0m\u001b[1;33m.\u001b[0m\u001b[0m_get_values_for_loc\u001b[0m\u001b[1;33m(\u001b[0m\u001b[0mself\u001b[0m\u001b[1;33m,\u001b[0m \u001b[0mloc\u001b[0m\u001b[1;33m,\u001b[0m \u001b[0mlabel\u001b[0m\u001b[1;33m)\u001b[0m\u001b[1;33m\u001b[0m\u001b[1;33m\u001b[0m\u001b[0m\n\u001b[0;32m   1071\u001b[0m \u001b[1;33m\u001b[0m\u001b[0m\n",
      "\u001b[1;32m~\\anaconda3\\lib\\site-packages\\pandas\\core\\indexes\\base.py\u001b[0m in \u001b[0;36mget_loc\u001b[1;34m(self, key, method, tolerance)\u001b[0m\n\u001b[0;32m   3629\u001b[0m                 \u001b[1;32mreturn\u001b[0m \u001b[0mself\u001b[0m\u001b[1;33m.\u001b[0m\u001b[0m_engine\u001b[0m\u001b[1;33m.\u001b[0m\u001b[0mget_loc\u001b[0m\u001b[1;33m(\u001b[0m\u001b[0mcasted_key\u001b[0m\u001b[1;33m)\u001b[0m\u001b[1;33m\u001b[0m\u001b[1;33m\u001b[0m\u001b[0m\n\u001b[0;32m   3630\u001b[0m             \u001b[1;32mexcept\u001b[0m \u001b[0mKeyError\u001b[0m \u001b[1;32mas\u001b[0m \u001b[0merr\u001b[0m\u001b[1;33m:\u001b[0m\u001b[1;33m\u001b[0m\u001b[1;33m\u001b[0m\u001b[0m\n\u001b[1;32m-> 3631\u001b[1;33m                 \u001b[1;32mraise\u001b[0m \u001b[0mKeyError\u001b[0m\u001b[1;33m(\u001b[0m\u001b[0mkey\u001b[0m\u001b[1;33m)\u001b[0m \u001b[1;32mfrom\u001b[0m \u001b[0merr\u001b[0m\u001b[1;33m\u001b[0m\u001b[1;33m\u001b[0m\u001b[0m\n\u001b[0m\u001b[0;32m   3632\u001b[0m             \u001b[1;32mexcept\u001b[0m \u001b[0mTypeError\u001b[0m\u001b[1;33m:\u001b[0m\u001b[1;33m\u001b[0m\u001b[1;33m\u001b[0m\u001b[0m\n\u001b[0;32m   3633\u001b[0m                 \u001b[1;31m# If we have a listlike key, _check_indexing_error will raise\u001b[0m\u001b[1;33m\u001b[0m\u001b[1;33m\u001b[0m\u001b[0m\n",
      "\u001b[1;31mKeyError\u001b[0m: 'coordonnees'"
     ]
    }
   ],
   "source": [
    "import folium\n",
    "\n",
    "#on crée la carte centrée sur Paris\n",
    "m = folium.Map(location=[48.8566, 2.3522], zoom_start=12)\n",
    "\n",
    "for index, row in data.iterrows():\n",
    "    folium.Marker(location=row['coordonnees'], popup=row['label']).add_to(m)\n",
    "\n",
    "#affichage de la carte\n",
    "m\n"
   ]
  },
  {
   "cell_type": "code",
   "execution_count": null,
   "id": "7caa20ca",
   "metadata": {},
   "outputs": [],
   "source": []
  },
  {
   "cell_type": "code",
   "execution_count": null,
   "id": "e4a957ab",
   "metadata": {},
   "outputs": [],
   "source": []
  }
 ],
 "metadata": {
  "kernelspec": {
   "display_name": "Python 3 (ipykernel)",
   "language": "python",
   "name": "python3"
  },
  "language_info": {
   "codemirror_mode": {
    "name": "ipython",
    "version": 3
   },
   "file_extension": ".py",
   "mimetype": "text/x-python",
   "name": "python",
   "nbconvert_exporter": "python",
   "pygments_lexer": "ipython3",
   "version": "3.9.13"
  }
 },
 "nbformat": 4,
 "nbformat_minor": 5
}
